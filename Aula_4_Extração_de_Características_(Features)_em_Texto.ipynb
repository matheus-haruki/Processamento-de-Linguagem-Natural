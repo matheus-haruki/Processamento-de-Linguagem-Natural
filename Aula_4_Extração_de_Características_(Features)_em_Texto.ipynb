{
  "nbformat": 4,
  "nbformat_minor": 0,
  "metadata": {
    "colab": {
      "provenance": [],
      "authorship_tag": "ABX9TyM2F8sxD+gFu5tLvFBMwHdT",
      "include_colab_link": true
    },
    "kernelspec": {
      "name": "python3",
      "display_name": "Python 3"
    },
    "language_info": {
      "name": "python"
    }
  },
  "cells": [
    {
      "cell_type": "markdown",
      "metadata": {
        "id": "view-in-github",
        "colab_type": "text"
      },
      "source": [
        "<a href=\"https://colab.research.google.com/github/matheus-haruki/Processamento-de-Linguagem-Natural/blob/main/Aula_4_Extra%C3%A7%C3%A3o_de_Caracter%C3%ADsticas_(Features)_em_Texto.ipynb\" target=\"_parent\"><img src=\"https://colab.research.google.com/assets/colab-badge.svg\" alt=\"Open In Colab\"/></a>"
      ]
    },
    {
      "cell_type": "markdown",
      "source": [
        "\n",
        "Extração de caracteristícas\n",
        "IMPLEMENTANDO BOW"
      ],
      "metadata": {
        "id": "GzmGzhkGPekq"
      }
    },
    {
      "cell_type": "markdown",
      "source": [
        "FORMA MATRICIAL"
      ],
      "metadata": {
        "id": "GeFogvcxSBUH"
      }
    },
    {
      "cell_type": "code",
      "source": [
        "# importando a ferramenta que irá criar a representação numérica\n",
        "from sklearn.feature_extraction.text import CountVectorizer\n",
        "\n",
        "# criando um corpus de documentos que será usado para criação do vocabulário\n",
        "documentos = [\n",
        "    \"gato e cachorro\",\n",
        "    \"gato brinca com cachorro\",\n",
        "    \"gato e rato\",\n",
        "    \"eu amo gato e cachorro, mas não gosto de rato\"\n",
        "]\n",
        "\n",
        "# Criando um objeto para ser utilizado: transformar os documentos em vetores\n",
        "vectorizer = CountVectorizer()\n",
        "\n",
        "# Criando a matriz de contagem\n",
        "X = vectorizer.fit_transform(documentos)\n",
        "\n",
        "# fit ››› cria um vocabulário das palavras\n",
        "# transforme ››› conta a frequencia de cada palavra no corpus\n",
        "\n",
        "# Imprimindo a Matriz e o Vocabulário gerado\n",
        "print(f\"Vocabulario: {vectorizer.vocabulary_}\")\n",
        "# realiza o mapeamento do vocabulário para um índice da matriz\n",
        "\n",
        "print(\"Matriz BoW:\")\n",
        "print(X.toarray())\n",
        "# mostra a frequencia de cada palavra dentro da matriz\n"
      ],
      "metadata": {
        "colab": {
          "base_uri": "https://localhost:8080/"
        },
        "id": "6XVYkKnOR24M",
        "outputId": "63b56c13-43b8-45ed-b4d7-903be1416082"
      },
      "execution_count": 9,
      "outputs": [
        {
          "output_type": "stream",
          "name": "stdout",
          "text": [
            "Vocabulario: {'gato': 6, 'cachorro': 2, 'brinca': 1, 'com': 3, 'rato': 10, 'eu': 5, 'amo': 0, 'mas': 8, 'não': 9, 'gosto': 7, 'de': 4}\n",
            "Matriz BoW:\n",
            "[[0 0 1 0 0 0 1 0 0 0 0]\n",
            " [0 1 1 1 0 0 1 0 0 0 0]\n",
            " [0 0 0 0 0 0 1 0 0 0 1]\n",
            " [1 0 1 0 1 1 1 1 1 1 1]]\n"
          ]
        }
      ]
    },
    {
      "cell_type": "markdown",
      "source": [
        "SEM A MATRIZ"
      ],
      "metadata": {
        "id": "CXPkm0zVSD-t"
      }
    },
    {
      "cell_type": "code",
      "source": [
        "# importando a ferramenta que irá criar a representação numérica\n",
        "from sklearn.feature_extraction.text import CountVectorizer\n",
        "\n",
        "# criando um corpus de documentos que será usado para criação do vocabulário\n",
        "documentos = [\n",
        "    \"gato e cachorro\",\n",
        "    \"gato brinca com cachorro\",\n",
        "    \"gato e rato\",\n",
        "    \"eu amo gato e cachorro, mas não gosto de rato\"\n",
        "]\n",
        "\n",
        "# Criando um objeto para ser utilizado: transformar os documentos em vetores\n",
        "vectorizer = CountVectorizer()\n",
        "\n",
        "# Criando a matriz de contagem\n",
        "X = vectorizer.fit_transform(documentos)\n",
        "\n",
        "# fit ››› cria um vocabulário das palavras\n",
        "# transforme ››› conta a frequencia de cada palavra no corpus\n",
        "\n",
        "# Imprimindo a Matriz e o Vocabulário gerado\n",
        "print(f\"Vocabulario: {vectorizer.vocabulary_}\")\n",
        "# realiza o mapeamento do vocabulário para um índice da matriz\n",
        "\n",
        "print(\"Matriz BoW:\")\n",
        "print(X)\n",
        "# mostra a frequencia de cada palavra dentro da matriz\n"
      ],
      "metadata": {
        "colab": {
          "base_uri": "https://localhost:8080/"
        },
        "id": "rO18NmkdSG57",
        "outputId": "249063a6-adc2-48b7-fa04-ffe9b8010bbe"
      },
      "execution_count": 8,
      "outputs": [
        {
          "output_type": "stream",
          "name": "stdout",
          "text": [
            "Vocabulario: {'gato': 6, 'cachorro': 2, 'brinca': 1, 'com': 3, 'rato': 10, 'eu': 5, 'amo': 0, 'mas': 8, 'não': 9, 'gosto': 7, 'de': 4}\n",
            "Matriz BoW:\n",
            "<Compressed Sparse Row sparse matrix of dtype 'int64'\n",
            "\twith 17 stored elements and shape (4, 11)>\n",
            "  Coords\tValues\n",
            "  (0, 6)\t1\n",
            "  (0, 2)\t1\n",
            "  (1, 6)\t1\n",
            "  (1, 2)\t1\n",
            "  (1, 1)\t1\n",
            "  (1, 3)\t1\n",
            "  (2, 6)\t1\n",
            "  (2, 10)\t1\n",
            "  (3, 6)\t1\n",
            "  (3, 2)\t1\n",
            "  (3, 10)\t1\n",
            "  (3, 5)\t1\n",
            "  (3, 0)\t1\n",
            "  (3, 8)\t1\n",
            "  (3, 9)\t1\n",
            "  (3, 7)\t1\n",
            "  (3, 4)\t1\n"
          ]
        }
      ]
    },
    {
      "cell_type": "markdown",
      "source": [
        "\n",
        "IMPLEMENTANDO BOW JUNTO COM TF-IDF"
      ],
      "metadata": {
        "id": "WJ0gyH_CTUW6"
      }
    },
    {
      "cell_type": "code",
      "source": [
        "# Importando as Bibliotecas\n",
        "from sklearn.feature_extraction.text import CountVectorizer  # classe que transforma os documentos em vetores e realiza a contagem de frequência\n",
        "from sklearn.feature_extraction.text import TfidfVectorizer  # classe que transforma os documentos em vetores com contagem de frequência ponderada\n",
        "\n",
        "# Definindo o corpus\n",
        "documentos = [\n",
        "    \"O cachorro gosta de passear no parque\",\n",
        "    \"O gato dorme no sofá o dia todo\",\n",
        "    \"Cachorros e gatos podem ser bons amigos\"\n",
        "]\n",
        "\n",
        "# Criando o modelo BoW\n",
        "vectorizer_bow = CountVectorizer()\n",
        "\n",
        "# Instanciamento da classe em objeto para ser usado\n",
        "X_bow = vectorizer_bow.fit_transform(documentos)\n",
        "\n",
        "# fit → realiza a transformação do vocabulário\n",
        "# transform → transforma cada documento em um vetor com a contagem de frequência\n",
        "\n",
        "# Imprimindo o Vocabulário e a Matriz\n",
        "print(f\"Vocabulário BoW: {vectorizer_bow.vocabulary_}\")\n",
        "print(\"Matriz BoW:\")\n",
        "print(X_bow.toarray())\n",
        "\n",
        "# Criando um modelo TF-IDF\n",
        "vectorizer_tfidf = TfidfVectorizer()\n",
        "\n",
        "# Instanciamento da classe em objeto\n",
        "X_tfidf = vectorizer_tfidf.fit_transform(documentos)\n",
        "\n",
        "# fit → realiza a transformação do vocabulário\n",
        "# transform → transforma cada documento em um vetor com a contagem de frequência ponderada\n",
        "\n",
        "# Imprimindo o Vocabulário e a Matriz TF-IDF\n",
        "print(f\"\\nVocabulário TF-IDF: {vectorizer_tfidf.vocabulary_}\")\n",
        "print(\"Matriz TF-IDF:\")\n",
        "print(X_tfidf.toarray())\n"
      ],
      "metadata": {
        "colab": {
          "base_uri": "https://localhost:8080/"
        },
        "id": "xRld_0n0Tzb6",
        "outputId": "8964300f-c147-45e2-eb51-49b426684e0a"
      },
      "execution_count": 15,
      "outputs": [
        {
          "output_type": "stream",
          "name": "stdout",
          "text": [
            "Vocabulário BoW: {'cachorro': 2, 'gosta': 9, 'de': 4, 'passear': 12, 'no': 10, 'parque': 11, 'gato': 7, 'dorme': 6, 'sofá': 15, 'dia': 5, 'todo': 16, 'cachorros': 3, 'gatos': 8, 'podem': 13, 'ser': 14, 'bons': 1, 'amigos': 0}\n",
            "Matriz BoW:\n",
            "[[0 0 1 0 1 0 0 0 0 1 1 1 1 0 0 0 0]\n",
            " [0 0 0 0 0 1 1 1 0 0 1 0 0 0 0 1 1]\n",
            " [1 1 0 1 0 0 0 0 1 0 0 0 0 1 1 0 0]]\n",
            "\n",
            "Vocabulário TF-IDF: {'cachorro': 2, 'gosta': 9, 'de': 4, 'passear': 12, 'no': 10, 'parque': 11, 'gato': 7, 'dorme': 6, 'sofá': 15, 'dia': 5, 'todo': 16, 'cachorros': 3, 'gatos': 8, 'podem': 13, 'ser': 14, 'bons': 1, 'amigos': 0}\n",
            "Matriz TF-IDF:\n",
            "[[0.         0.         0.42339448 0.         0.42339448 0.\n",
            "  0.         0.         0.         0.42339448 0.32200242 0.42339448\n",
            "  0.42339448 0.         0.         0.         0.        ]\n",
            " [0.         0.         0.         0.         0.         0.42339448\n",
            "  0.42339448 0.42339448 0.         0.         0.32200242 0.\n",
            "  0.         0.         0.         0.42339448 0.42339448]\n",
            " [0.40824829 0.40824829 0.         0.40824829 0.         0.\n",
            "  0.         0.         0.40824829 0.         0.         0.\n",
            "  0.         0.40824829 0.40824829 0.         0.        ]]\n"
          ]
        }
      ]
    },
    {
      "cell_type": "markdown",
      "source": [
        "WordEmbedding utilizando Word2Vec\n"
      ],
      "metadata": {
        "id": "sfM6SBz8YTZ_"
      }
    },
    {
      "cell_type": "code",
      "source": [
        "# Importação da Biblioteca\n",
        "from gensim.models import Word2Vec\n",
        "\n",
        "# Criação do Corpus\n",
        "corpus = [\n",
        "    [\"o\", \"cachorro\", \"está\", \"dormindo\"],\n",
        "    [\"o\", \"gato\", \"está\", \"dormindo\"]\n",
        "]\n",
        "\n",
        "# Criando o modelo Word2Vec\n",
        "model = Word2Vec(\n",
        "    sentences=corpus,\n",
        "    vector_size=100,\n",
        "    window=5,\n",
        "    min_count=1,\n",
        "    sg=1\n",
        ")\n",
        "\n",
        "# Obtendo o vetor da palavra 'cachorro'\n",
        "vector = model.wv['cachorro']\n",
        "print(\"Vetor da palavra 'cachorro':\")\n",
        "print(vector)\n",
        "\n",
        "# Calculando a similaridade entre 'cachorro' e 'gato'\n",
        "similarity = model.wv.similarity('cachorro', 'gato')\n",
        "print(\"\\nSimilaridade entre 'cachorro' e 'gato':\", similarity)\n"
      ],
      "metadata": {
        "colab": {
          "base_uri": "https://localhost:8080/"
        },
        "id": "X8qeYOfeaePL",
        "outputId": "0faee035-5f88-4649-b00f-97637585435b"
      },
      "execution_count": 1,
      "outputs": [
        {
          "output_type": "stream",
          "name": "stdout",
          "text": [
            "Vetor da palavra 'cachorro':\n",
            "[-0.00713902  0.00124103 -0.00717672 -0.00224462  0.0037193   0.00583312\n",
            "  0.00119818  0.00210273 -0.00411039  0.00722533 -0.00630704  0.00464722\n",
            " -0.00821997  0.00203647 -0.00497705 -0.00424769 -0.00310898  0.00565521\n",
            "  0.0057984  -0.00497465  0.00077333 -0.00849578  0.00780981  0.00925729\n",
            " -0.00274233  0.00080022  0.00074665  0.00547788 -0.00860608  0.00058446\n",
            "  0.00686942  0.00223159  0.00112468 -0.00932216  0.00848237 -0.00626413\n",
            " -0.00299237  0.00349379 -0.00077263  0.00141129  0.00178199 -0.0068289\n",
            " -0.00972481  0.00904058  0.00619805 -0.00691293  0.00340348  0.00020606\n",
            "  0.00475375 -0.00711994  0.00402695  0.00434743  0.00995737 -0.00447374\n",
            " -0.00138926 -0.00731732 -0.00969783 -0.00908026 -0.00102275 -0.00650329\n",
            "  0.00484973 -0.00616403  0.00251919  0.00073944 -0.00339215 -0.00097922\n",
            "  0.00997913  0.00914589 -0.00446183  0.00908303 -0.00564176  0.00593092\n",
            " -0.00309722  0.00343175  0.00301723  0.00690046 -0.00237388  0.00877504\n",
            "  0.00758943 -0.00954765 -0.00800821 -0.0076379   0.00292326 -0.00279472\n",
            " -0.00692952 -0.00812826  0.00830918  0.00199049 -0.00932802 -0.00479272\n",
            "  0.00313674 -0.00471321  0.00528084 -0.00423344  0.0026418  -0.00804569\n",
            "  0.00620989  0.00481889  0.00078719  0.00301345]\n",
            "\n",
            "Similaridade entre 'cachorro' e 'gato': -0.0446171\n"
          ]
        }
      ]
    },
    {
      "cell_type": "code",
      "source": [
        "from gensim.models import Word2Vec\n",
        "\n",
        "# Corpus corrigido\n",
        "corpus = [\n",
        "    [\"o\", \"cachorro\", \"está\", \"latindo\", \"no\", \"quintal\"],\n",
        "    [\"o\", \"gato\", \"está\", \"miando\", \"no\", \"telhado\"],\n",
        "    [\"o\", \"pássaro\", \"está\", \"voando\", \"no\", \"céu\", \"lua\"],\n",
        "    [\"a\", \"bola\", \"está\", \"rolando\", \"no\", \"chão\"],\n",
        "    [\"a\", \"criança\", \"está\", \"brincando\", \"com\", \"o\", \"cachorro\"],\n",
        "    [\"o\", \"gato\", \"e\", \"o\", \"rato\", \"são\", \"inimigos\"],\n",
        "    [\"a\", \"água\", \"está\", \"quente\", \"na\", \"caneca\"],\n",
        "    [\"o\", \"sol\", \"está\", \"brilhando\", \"no\", \"céu\"],\n",
        "    [\"a\", \"lua\", \"está\", \"cheia\", \"hoje\", \"no\", \"céu\"],\n",
        "    [\"o\", \"computador\", \"está\", \"ligado\", \"na\", \"mesa\"],\n",
        "    [\"a\", \"lua\", \"está\", \"no\", \"céu\", \"lua\", \"bonita\"]\n",
        "]\n",
        "\n",
        "# Criação do modelo\n",
        "model = Word2Vec(sentences=corpus, vector_size=100, window=5, min_count=1, sg=1)\n",
        "\n",
        "# Similaridade entre algumas palavras\n",
        "print(f\"Similaridade entre 'cachorro' e 'gato': {model.wv.similarity('cachorro', 'gato')}\")\n",
        "print(f\"Similaridade entre 'cachorro' e 'bola': {model.wv.similarity('cachorro', 'bola')}\")\n",
        "print(f\"Similaridade entre 'céu' e 'lua': {model.wv.similarity('céu', 'lua')}\")\n",
        "print(f\"Similaridade entre 'computador' e 'mesa': {model.wv.similarity('computador', 'mesa')}\")\n"
      ],
      "metadata": {
        "colab": {
          "base_uri": "https://localhost:8080/"
        },
        "id": "Cj2JbgiFbH_T",
        "outputId": "83a31674-06ca-41a0-bd1d-fb8f0e265b6d"
      },
      "execution_count": 3,
      "outputs": [
        {
          "output_type": "stream",
          "name": "stdout",
          "text": [
            "Similaridade entre 'cachorro' e 'gato': 0.008838945999741554\n",
            "Similaridade entre 'cachorro' e 'bola': -0.12080436944961548\n",
            "Similaridade entre 'céu' e 'lua': 0.1388208270072937\n",
            "Similaridade entre 'computador' e 'mesa': 0.04976481571793556\n"
          ]
        }
      ]
    }
  ]
}