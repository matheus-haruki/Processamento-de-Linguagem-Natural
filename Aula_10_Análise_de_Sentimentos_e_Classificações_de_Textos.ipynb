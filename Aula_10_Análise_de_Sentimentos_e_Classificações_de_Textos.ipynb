{
  "nbformat": 4,
  "nbformat_minor": 0,
  "metadata": {
    "colab": {
      "provenance": [],
      "authorship_tag": "ABX9TyPMaLDNIYp2OYQxMDjLi+gg",
      "include_colab_link": true
    },
    "kernelspec": {
      "name": "python3",
      "display_name": "Python 3"
    },
    "language_info": {
      "name": "python"
    }
  },
  "cells": [
    {
      "cell_type": "markdown",
      "metadata": {
        "id": "view-in-github",
        "colab_type": "text"
      },
      "source": [
        "<a href=\"https://colab.research.google.com/github/matheus-haruki/Processamento-de-Linguagem-Natural/blob/main/Aula_10_An%C3%A1lise_de_Sentimentos_e_Classifica%C3%A7%C3%B5es_de_Textos.ipynb\" target=\"_parent\"><img src=\"https://colab.research.google.com/assets/colab-badge.svg\" alt=\"Open In Colab\"/></a>"
      ]
    },
    {
      "cell_type": "markdown",
      "source": [
        "Análise de sentimentos e Classificação de texto (Naives Bayes)\n",
        " * Compreender o funcionamento de scripts que realizam a classificação de textos.\n",
        "  * Biblioteca NLTK\n",
        "  * Cálculo Probábilistico\n",
        "\n",
        "* O que é a clssificação de textos?\n",
        " * Criar um rótulo ou uma categoria com base no conteúdo do texto.\n",
        " * Aplicado em: detecção de spam, identifição de idioma, organização de documentos, análise de cliente, análise de satisfação, etc ...\n",
        "\n",
        "* Como é feito?\n",
        " * Utilizando o teorema de Bayes\n",
        " * Árvore de Decisão (próxima aula)\n"
      ],
      "metadata": {
        "id": "m5tuVREdBdmn"
      }
    },
    {
      "cell_type": "markdown",
      "source": [
        "Exemplo 1 -\n",
        "Desenvolvendo de um sistema para classificar automaticamente o sentimento de avaliações de filmes como \"positivo\" ou \"negativo\". Para isso é necessário ter um conjunto de dados com as avaliações rotuladas.\n"
      ],
      "metadata": {
        "id": "o7NN377vFiII"
      }
    },
    {
      "cell_type": "code",
      "source": [
        "# Importando as bibliotecas\n",
        "import nltk\n",
        "from nltk.sentiment.vader import SentimentIntensityAnalyzer\n",
        "\n",
        "# Certifique-se de baixar os recursos necessários do NLTK\n",
        "nltk.download('vader_lexicon')\n",
        "nltk.download('punkt')\n"
      ],
      "metadata": {
        "colab": {
          "base_uri": "https://localhost:8080/"
        },
        "id": "lVgbxTaAFmSz",
        "outputId": "0f07cf90-546f-43b1-cda0-08762e7a4029"
      },
      "execution_count": 4,
      "outputs": [
        {
          "output_type": "stream",
          "name": "stderr",
          "text": [
            "[nltk_data] Downloading package vader_lexicon to /root/nltk_data...\n",
            "[nltk_data] Downloading package punkt to /root/nltk_data...\n",
            "[nltk_data]   Unzipping tokenizers/punkt.zip.\n"
          ]
        },
        {
          "output_type": "execute_result",
          "data": {
            "text/plain": [
              "True"
            ]
          },
          "metadata": {},
          "execution_count": 4
        }
      ]
    },
    {
      "cell_type": "code",
      "source": [
        "# Inicializando o analisador de sentimentos\n",
        "sid = SentimentIntensityAnalyzer()\n",
        "\n",
        "# Definindo os textos de exemplo para treinar o modelo\n",
        "textos = [\n",
        "    \"Este filme é incrível! Eu adorei cada minuto.\",\n",
        "    \"Odiei este filme. Foi uma perda de tempo.\",\n",
        "    \"O filme foi ok, nada de especial.\",\n",
        "    \"Estou muito feliz com o produto, funciona perfeitamente!\",\n",
        "    \"Que serviço horrível! Nunca mais compro nessa loja.\"\n",
        "]"
      ],
      "metadata": {
        "id": "qXZEOfq-G5Jc"
      },
      "execution_count": 5,
      "outputs": []
    },
    {
      "cell_type": "code",
      "source": [
        "# Analisando os sentimentos dos textos\n",
        "for texto in textos:\n",
        "    print(f\"Texto: {texto}\")\n",
        "    ss = sid.polarity_scores(texto)\n",
        "    print(f\"Pontuação: {ss}\")\n",
        "    if ss['compound'] >= 0.05:\n",
        "        print(\"Sentimento: Positivo\")\n",
        "    elif ss['compound'] <= -0.05:\n",
        "        print(\"Sentimento: Negativo\")\n",
        "    else:\n",
        "        print(\"Sentimento: Neutro\")\n",
        "    print(\"\\n\")"
      ],
      "metadata": {
        "colab": {
          "base_uri": "https://localhost:8080/"
        },
        "id": "CJ67XfsYHI25",
        "outputId": "cd225801-c5dc-425a-e3d4-1493e289e545"
      },
      "execution_count": 6,
      "outputs": [
        {
          "output_type": "stream",
          "name": "stdout",
          "text": [
            "Texto: Este filme é incrível! Eu adorei cada minuto.\n",
            "Pontuação: {'neg': 0.0, 'neu': 1.0, 'pos': 0.0, 'compound': 0.0}\n",
            "Sentimento: Neutro\n",
            "\n",
            "\n",
            "Texto: Odiei este filme. Foi uma perda de tempo.\n",
            "Pontuação: {'neg': 0.0, 'neu': 1.0, 'pos': 0.0, 'compound': 0.0}\n",
            "Sentimento: Neutro\n",
            "\n",
            "\n",
            "Texto: O filme foi ok, nada de especial.\n",
            "Pontuação: {'neg': 0.0, 'neu': 0.694, 'pos': 0.306, 'compound': 0.296}\n",
            "Sentimento: Positivo\n",
            "\n",
            "\n",
            "Texto: Estou muito feliz com o produto, funciona perfeitamente!\n",
            "Pontuação: {'neg': 0.0, 'neu': 1.0, 'pos': 0.0, 'compound': 0.0}\n",
            "Sentimento: Neutro\n",
            "\n",
            "\n",
            "Texto: Que serviço horrível! Nunca mais compro nessa loja.\n",
            "Pontuação: {'neg': 0.0, 'neu': 1.0, 'pos': 0.0, 'compound': 0.0}\n",
            "Sentimento: Neutro\n",
            "\n",
            "\n"
          ]
        }
      ]
    },
    {
      "cell_type": "markdown",
      "source": [
        "Exemplo 2 Análise de sentimentos de Avaliações de Filmes com Naives Bayes\n",
        "\n",
        "Primeira etapa: Criação de funções que calculam a quantidade de palavras, e as probabilidades"
      ],
      "metadata": {
        "id": "fsEbOd9WHPIu"
      }
    },
    {
      "cell_type": "code",
      "source": [
        "import numpy as np\n",
        "\n",
        "def contar_palavras(avaliacoes, sentimento):\n",
        "    \"\"\"Conta a frequência de cada palavra em avaliações de um dado sentimento.\"\"\"\n",
        "    contagem = {}\n",
        "\n",
        "    for avaliacao, sent in avaliacoes:\n",
        "        if sent == sentimento:\n",
        "            for palavra in avaliacao.lower().split():\n",
        "                if palavra in contagem:\n",
        "                    contagem[palavra] += 1\n",
        "                else:\n",
        "                    contagem[palavra] = 1\n",
        "    return contagem\n",
        "\n",
        "def calcular_probabilidade_sentimento(avaliacoes, sentimento):\n",
        "    \"\"\"Calcula a probabilidade de uma avaliação ser de um dado sentimento.\"\"\"\n",
        "    total_avaliacoes = len(avaliacoes)\n",
        "    contagem_sentimento = sum(1 for _, sent in avaliacoes if sent == sentimento)\n",
        "    return contagem_sentimento / total_avaliacoes\n",
        "\n",
        "def calcular_probabilidade_palavra_dado_sentimento(palavra, contagem_palavras, total_palavras_sentimento, total_palavras_vocabulario, alpha=1):\n",
        "    \"\"\"Calcula a probabilidade de uma palavra aparecer dado um sentimento (com suavização Laplace).\"\"\"\n",
        "    contagem_palavra = contagem_palavras.get(palavra, 0)\n",
        "    return (contagem_palavra + alpha) / (total_palavras_sentimento + alpha * total_palavras_vocabulario)"
      ],
      "metadata": {
        "id": "ERkViv4LHKic"
      },
      "execution_count": 7,
      "outputs": []
    },
    {
      "cell_type": "markdown",
      "source": [
        "· Segunda etapa: Criação da função que calcula a classificação da palavra pertencer a um sentimento"
      ],
      "metadata": {
        "id": "UiGWWEiEIh-m"
      }
    },
    {
      "cell_type": "code",
      "source": [
        "def classifier_avaliacao(avaliacao, avaliacoes):\n",
        "    \"\"\"Classifica o sentimento de uma nova avaliação usando Naive Bayes.\"\"\"\n",
        "\n",
        "    sentimentos = [\"Positivo\", \"Negativo\"]\n",
        "    probabilidades_sentimento = {}\n",
        "\n",
        "    # Calcular probabilidades a priori dos sentimentos\n",
        "    probabilidades_sentimento[\"Positivo\"] = calcular_probabilidade_sentimento(avaliacoes, \"Positivo\")\n",
        "    probabilidades_sentimento[\"Negativo\"] = calcular_probabilidade_sentimento(avaliacoes, \"Negativo\")\n",
        "\n",
        "    # Contar palavras em cada sentimento\n",
        "    contagem_palavras_positivo = contar_palavras(avaliacoes, \"Positivo\")\n",
        "    contagem_palavras_negativo = contar_palavras(avaliacoes, \"Negativo\")\n",
        "\n",
        "    # Calcular total de palavras em cada sentimento\n",
        "    total_palavras_positivo = sum(contagem_palavras_positivo.values())\n",
        "    total_palavras_negativo = sum(contagem_palavras_negativo.values())\n",
        "\n",
        "    # Calcular tamanho do vocabulário\n",
        "    vocabulario = set()\n",
        "    for avaliacao, _ in avaliacoes:\n",
        "        for palavra in avaliacao.lower().split():\n",
        "            vocabulario.add(palavra)\n",
        "    total_palavras_vocabulario = len(vocabulario)\n",
        "\n",
        "    # Calcular probabilidades para cada sentimento\n",
        "    for sentimento in sentimentos:\n",
        "        probabilidade_total = probabilidades_sentimento[sentimento]\n",
        "        contagem_palavras_sentimento = contagem_palavras_positivo if sentimento == \"Positivo\" else contagem_palavras_negativo\n",
        "        total_palavras_sentimento = total_palavras_positivo if sentimento == \"Positivo\" else total_palavras_negativo\n",
        "\n",
        "        for palavra in avaliacao.lower().split():\n",
        "            probabilidade_palavra = calcular_probabilidade_palavra_dado_sentimento(\n",
        "                palavra, contagem_palavras_sentimento, total_palavras_sentimento, total_palavras_vocabulario\n",
        "            )\n",
        "            probabilidade_total *= probabilidade_palavra\n",
        "        probabilidades_sentimento[sentimento] = probabilidade_total\n",
        "\n",
        "    # Classificar com base na maior probabilidade\n",
        "    melhor_sentimento = max(probabilidades_sentimento.items(), key=lambda x: x[1])[0]\n",
        "    return melhor_sentimento"
      ],
      "metadata": {
        "id": "AlGtrj26Iihw"
      },
      "execution_count": 8,
      "outputs": []
    },
    {
      "cell_type": "markdown",
      "source": [
        "· Terceira Etapa – Fornecimento de um modelo para treinamento"
      ],
      "metadata": {
        "id": "NTLqez5wJAEp"
      }
    },
    {
      "cell_type": "code",
      "source": [
        "avaliacoes = [\n",
        "\n",
        "(\"Filme incrível! Adorei a atuação.\", \"Positivo\"),\n",
        "\n",
        "(\"Roteiro fraco, não recomendo.\", \"Negativo\"),\n",
        "\n",
        "(\"Atuação boa, mas filme longo.\", \"Positivo\"),\n",
        "\n",
        "(\"Péssimo! Perdi meu tempo.\", \"Negativo\"),\n",
        "\n",
        "]"
      ],
      "metadata": {
        "id": "FSOlF4BKI7CL"
      },
      "execution_count": 9,
      "outputs": []
    },
    {
      "cell_type": "markdown",
      "source": [
        "· Quarta etapa - Fornecendo um frase para ser avaliada"
      ],
      "metadata": {
        "id": "2iKgwpr4JIM9"
      }
    },
    {
      "cell_type": "code",
      "source": [
        "# Nova avaliação a ser classificada\n",
        "nova_avaliacao = input(\"O que você achou do filme 101 Dalmatas? \")\n",
        "\n",
        "# Classificar a nova avaliação\n",
        "sentimento = classifier_avaliacao(nova_avaliacao, avaliacoes)\n",
        "print(f\"A avaliação '{nova_avaliacao}' foi classificada como: {sentimento}\")"
      ],
      "metadata": {
        "colab": {
          "base_uri": "https://localhost:8080/"
        },
        "id": "B_gsLSbHJD80",
        "outputId": "97b5932c-f169-41d8-e189-a69e237bcc61"
      },
      "execution_count": 12,
      "outputs": [
        {
          "output_type": "stream",
          "name": "stdout",
          "text": [
            "O que você achou do filme 101 Dalmatas? Ruim\n",
            "A avaliação 'Ruim' foi classificada como: Negativo\n"
          ]
        }
      ]
    },
    {
      "cell_type": "code",
      "source": [
        "avaliacoes = [\n",
        "\n",
        "(\"Filme incrível! Adorei a atuação, roteiro e direção.\", \"Positivo\"),\n",
        "\n",
        "(\"Roteiro fraco, atuação ruim, não recomendo. Perda de tempo.\", \"Negativo\"),\n",
        "\n",
        "(\"Atuação boa, mas filme um pouco longo e arrastado.\", \"Positivo\"),\n",
        "\n",
        "(\"Péssimo! Perdi meu tempo, dinheiro e paciência. Horrível.\", \"Negativo\"),\n",
        "\n",
        "(\"Amei! Elenco maravilhoso, fotografia impecável. Recomendo muito!\", \"Positivo\"),\n",
        "\n",
        "(\"Chato, previsível e sem graça. Saí no meio do filme.\", \"Negativo\"),\n",
        "\n",
        "(\"Uma obra-prima! Roteiro inteligente, atuações memoráveis.\", \"Positivo\"),\n",
        "\n",
        "(\"Cansativo, atuações forçadas, final decepcionante.\", \"Negativo\"),\n",
        "\n",
        "(\"Divertido e emocionante! Ótimo para assistir com a família.\", \"Positivo\"),\n",
        "\n",
        "(\"Clichê, sem originalidade, diálogos fracos. Não vale a pena.\", \"Negativo\"),\n",
        "\n",
        "(\"Surpreendente e envolvente! Me prendeu do início ao fim.\", \"Positivo\"),\n",
        "\n",
        "(\"Confuso, mal dirigido, edição amadora. Um desastre.\", \"Negativo\"),\n",
        "\n",
        "(\"Atuação excelente, história cativante, trilha sonora perfeita.\", \"Positivo\"),\n",
        "\n",
        "(\"Atuações medianas, história arrastada, trilha sonora irritante.\", \"Negativo\"),\n",
        "\n",
        "(\"Roteiro bem construído, diálogos afiados, direção impecável.\", \"Positivo\"),\n",
        "\n",
        "(\"Roteiro fraco, diálogos bobos, direção perdida.\", \"Negativo\"),\n",
        "\n",
        "(\"Uma experiência cinematográfica única! Recomendo a todos os amantes do cinema.\", \"Positivo\"),\n",
        "\n",
        "(\"Um filme esquecível, sem emoção e sem impacto.\", \"Negativo\"),\n",
        "\n",
        "(\"Comovente e inspirador! Me fez refletir sobre a vida.\", \"Positivo\"),\n",
        "\n",
        "(\"Decepcionante e frustrante! Não recomendo nem para passar o tempo.\", \"Negativo\"),\n",
        "\n",
        "(\"Ótimo, gostei muito\",'Positivo')\n",
        "\n",
        "]"
      ],
      "metadata": {
        "id": "J2D1uUWeJphj"
      },
      "execution_count": 13,
      "outputs": []
    }
  ]
}