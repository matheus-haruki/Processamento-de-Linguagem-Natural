{
  "nbformat": 4,
  "nbformat_minor": 0,
  "metadata": {
    "colab": {
      "provenance": [],
      "include_colab_link": true
    },
    "kernelspec": {
      "name": "python3",
      "display_name": "Python 3"
    },
    "language_info": {
      "name": "python"
    }
  },
  "cells": [
    {
      "cell_type": "markdown",
      "metadata": {
        "id": "view-in-github",
        "colab_type": "text"
      },
      "source": [
        "<a href=\"https://colab.research.google.com/github/matheus-haruki/Processamento-de-Linguagem-Natural/blob/main/Projeto_1_An%C3%A1lise_Quantitativa_de_Corpus.ipynb\" target=\"_parent\"><img src=\"https://colab.research.google.com/assets/colab-badge.svg\" alt=\"Open In Colab\"/></a>"
      ]
    },
    {
      "cell_type": "markdown",
      "source": [
        "# Projeto #1 de PLN\n",
        "\n",
        "Análise Quantitativa de Corpus"
      ],
      "metadata": {
        "id": "poakg9jijDYM"
      }
    },
    {
      "cell_type": "markdown",
      "source": [
        "Objetivo do notebook:\n",
        "\n",
        "O objetivo deste notebook é realizar uma análise quantitativa de um corpus textual utilizando ferramentas de Processamento de Linguagem Natural (PLN). A proposta é extrair informações estatísticas básicas dos textos, como número de palavras, diversidade lexical, palavras mais frequentes e outras métricas, com o intuito de explorar características gerais do conteúdo de forma prática e introdutória.\n",
        "\n",
        "Técnicas de PLN implementadas:\n",
        "\n",
        "-  Leitura e carregamento de corpus: Utilização do corpus machado da biblioteca NLTK, contendo textos de Machado de Assis.\n",
        "\n",
        "- Tokenização: Separação do texto em unidades linguísticas (tokens), como palavras.\n",
        "\n",
        "- Cálculo de frequência de palavras: Identificação das palavras mais utilizadas no corpus.\n",
        "\n",
        "- Cálculo de métricas básicas:\n",
        "\n",
        "  - Total de palavras (tokens)\n",
        "\n",
        "  - Total de palavras únicas (vocabulário)\n",
        "\n",
        "  - Diversidade lexical (proporção entre vocabulário e total de tokens)\n",
        "\n",
        "- Visualização de dados: Geração de gráficos de frequência para facilitar a análise."
      ],
      "metadata": {
        "id": "H6rXrhPKiXX4"
      }
    },
    {
      "cell_type": "markdown",
      "source": [
        "## Início do processamento do corpus"
      ],
      "metadata": {
        "id": "73Tt3_QG0yMj"
      }
    },
    {
      "cell_type": "code",
      "source": [
        "# criar uma função para fazer a abertura e leitura do arquivo\n",
        "def ler(nome_arquivo):\n",
        "  arquivo = open(nome_arquivo,'r', encoding='utf-8')\n",
        "  conteudo_arq = arquivo.read()\n",
        "  arquivo.close()\n",
        "  return conteudo_arq"
      ],
      "metadata": {
        "id": "fiaUnOg70wYL"
      },
      "execution_count": 7,
      "outputs": []
    },
    {
      "cell_type": "code",
      "source": [
        "texto = ler('/content/drive/MyDrive/Colab Notebooks/P1-PLN/Cópia de 2025.05 Ubirajara.txt')\n",
        "print(len(texto))"
      ],
      "metadata": {
        "colab": {
          "base_uri": "https://localhost:8080/"
        },
        "id": "1PFaOSdy1-V6",
        "outputId": "654c51bb-1600-4f83-8428-3208d8316868"
      },
      "execution_count": 8,
      "outputs": [
        {
          "output_type": "stream",
          "name": "stdout",
          "text": [
            "219835\n"
          ]
        }
      ]
    },
    {
      "cell_type": "markdown",
      "source": [
        "## Primeira etapa - Buscador de palavras"
      ],
      "metadata": {
        "id": "q2DFSzYi3OWM"
      }
    },
    {
      "cell_type": "code",
      "source": [
        "def buscador(alvo, texto):\n",
        "  texto = texto.replace('\\n', ' ')\n",
        "  texto = texto.replace('\\t', ' ')\n",
        "\n",
        "  ocorrencias = []\n",
        "\n",
        "  encontrado_aqui = texto.find(alvo, 0)\n",
        "    #Se encontra a palavra, informa a posição\n",
        "    #SE não encontrar, informa -1\n",
        "\n",
        "  while encontrado_aqui > 0:\n",
        "    pos_inicial = encontrado_aqui - (40 - len(alvo))\n",
        "    trecho = texto[pos_inicial: pos_inicial + 80]\n",
        "\n",
        "    ocorrencias.append(trecho)\n",
        "\n",
        "    encontrado_aqui = texto.find(alvo, encontrado_aqui + 1)\n",
        "\n",
        "    # inicia a busca a partir da posição anterior + 1\n",
        "    #Se encontra a palavra, informa a posição\n",
        "    #SE não encontrar, informa -1\n",
        "\n",
        "  return ocorrencias"
      ],
      "metadata": {
        "id": "2ff5SBtw3Ncs"
      },
      "execution_count": 9,
      "outputs": []
    },
    {
      "cell_type": "code",
      "source": [
        "resultados = buscador('peito', texto)\n",
        "\n",
        "for trecho in resultados:\n",
        "  print(trecho)"
      ],
      "metadata": {
        "colab": {
          "base_uri": "https://localhost:8080/"
        },
        "id": "s9UAC34e3NaF",
        "outputId": "6c177148-0f43-4701-a9ab-73d1eb090539"
      },
      "execution_count": 10,
      "outputs": [
        {
          "output_type": "stream",
          "name": "stdout",
          "text": [
            "i o chefe tocantim quem recebeu no peito a ponta farpada.  Quando o corpo robust\n",
            " se tua arma traiçoeira me feriu o peito, o suplicio não vencerá a constancia do\n",
            "java falar; todos escutaram com respeito o heróe, ainda maior na desgraça.  --Gu\n",
            "ança, escrava de Jaguarê, cravou o peito do inimigo.  «Elle caiu, o guerreiro ch\n",
            "O labio de Jandira emudeceu; mas o peito soluçou.  A virjem conheceu que o amor \n",
            " todos dignos de teu valor. Nestes peitos, que te pertencem, ella os nutrirá com\n",
            "ndos que os botões do cardo por um peito feroz, e as mãos lijeiras que tecem os \n",
            " o acolher, todos o escutam com respeito.  «Em suas palavras prudentes, os anciã\n",
            "não quando elle não chupa mais seu peito. Ella é como a mangabeira; nutre o frut\n",
            "ente do Xingú.  As arvores que seu peito encontrava caíam lascadas.  Jurandir es\n",
            "e. Os noivos cuidavam que era a do peito do tucano; mas ella sabia que era do pe\n",
            " tucano; mas ella sabia que era do peito da arára e que tinha as côres de seu gu\n",
            "os arredores. Nada encontrou de suspeito; o rasto, que o inquietava, não chegára\n",
            "amor, e quando o leite encher seus peitos mimozos, para que ella suspenda ao col\n",
            " O grande chefe vergou a cabeça ao peito, como o cedro altaneiro batido pelo tuf\n",
            "re a cabeça de Arací:  --Itaquê respeitou a lei de hospitalidade no corpo de Ubi\n",
            "as o grito de espanto sossobrou no peito dos guerreiros, e rompeu em um grito de\n",
            "o velho guerreiro sossobrou-lhe no peito:  --O arco de Itaquê é como o gavião qu\n",
            "s do guerreiro quando se cruzam ao peito para exprimir a amizade.  Ubirajara apa\n",
            "eu guerreiro.  Ubirajara cinjiu ao peito com um e outro braço, a espoza e a virj\n",
            "336.  Póde-se ler tambem a este respeito o que diz Gabriel Soares, cit. no cap. \n",
            "abriel Soares se exprime a este respeito no cap. 152: «E como o marido lhe leva \n",
            "ilizada se observa tão profundo respeito pela união conjugal, a ponto de não con\n",
            ". VIII, que a liga vermelha e o respeito que ella inspirava indicassem guarda da\n",
            " como sua extensão, dependia do respeito que elle conseguia infundir a seus guer\n",
            "quelles sacerdotes, cercados do respeito dos guerreiros, fortes pelo prestijio d\n",
            "lações do seu culto.  Tal era o respeito que o selvajem professava pela dignidad\n",
            "sseio. Ives d'Evreux diz a este respeito: «Ils sont fort soigneux de tenir leur \n",
            "vel e _nheng_ falar.--Veja-se a respeito dos cantores, _nhengara_, o que se diss\n"
          ]
        }
      ]
    },
    {
      "cell_type": "markdown",
      "source": [
        "## Segunda Etapa - Limpeza dos corpus"
      ],
      "metadata": {
        "id": "DfmyoX0L8z2o"
      }
    },
    {
      "cell_type": "code",
      "source": [
        "palavras = texto.split()"
      ],
      "metadata": {
        "id": "GuA3F77K9Tjn"
      },
      "execution_count": 11,
      "outputs": []
    },
    {
      "cell_type": "code",
      "source": [
        "def limpar(lista):\n",
        "  lixo = '.,:;?!\"´`^~()[]{}/\\|@#$%¨&*-'\n",
        "  quase_limpo = [x.strip(lixo).lower() for x in lista]\n",
        "  return [x for x in quase_limpo if x.isalpha() or '-' not in x]"
      ],
      "metadata": {
        "id": "VnQEm1nM3NUU"
      },
      "execution_count": 12,
      "outputs": []
    },
    {
      "cell_type": "code",
      "source": [
        "teste = \"Corre-se atrás do carro, corre se o carro for embora.\"\n",
        "word = teste.split()\n",
        "print(word)"
      ],
      "metadata": {
        "colab": {
          "base_uri": "https://localhost:8080/"
        },
        "id": "-vGfOC663NXU",
        "outputId": "2b31fb3a-463f-4b4e-81f1-7b88df767f80"
      },
      "execution_count": 13,
      "outputs": [
        {
          "output_type": "stream",
          "name": "stdout",
          "text": [
            "['Corre-se', 'atrás', 'do', 'carro,', 'corre', 'se', 'o', 'carro', 'for', 'embora.']\n"
          ]
        }
      ]
    },
    {
      "cell_type": "code",
      "source": [
        "print(limpar(word))"
      ],
      "metadata": {
        "colab": {
          "base_uri": "https://localhost:8080/"
        },
        "id": "F2RWM6ZA3NPM",
        "outputId": "93f3f3dc-7b68-47e7-cb41-21d28f291aad"
      },
      "execution_count": 14,
      "outputs": [
        {
          "output_type": "stream",
          "name": "stdout",
          "text": [
            "['atrás', 'do', 'carro', 'corre', 'se', 'o', 'carro', 'for', 'embora']\n"
          ]
        }
      ]
    },
    {
      "cell_type": "code",
      "source": [
        "print(len(palavras))\n",
        "palavras = limpar(palavras)\n",
        "print(len(palavras))"
      ],
      "metadata": {
        "colab": {
          "base_uri": "https://localhost:8080/"
        },
        "id": "hqELs5_wAWht",
        "outputId": "035d7082-ba3b-4a3a-a4fb-546385116b02"
      },
      "execution_count": 15,
      "outputs": [
        {
          "output_type": "stream",
          "name": "stdout",
          "text": [
            "37139\n",
            "36585\n"
          ]
        }
      ]
    },
    {
      "cell_type": "markdown",
      "source": [
        "Descrevendo os métodos utilizados na limpeza:\n",
        "* split() - transformar um texto, em uma lista de palavras\n",
        "* strip() - eliminar sinais ou caracteres no começo ou no fim de uma palavras\n",
        "* isalpha - realizar um filtro eliminando números ou simbolos de uma lista de referência"
      ],
      "metadata": {
        "id": "wyBzRXLkA_tC"
      }
    },
    {
      "cell_type": "markdown",
      "source": [
        "## Terceira Etapa - Quantidade de palavras\n",
        "1. Quantifica as palavras\n",
        "2. Classificação de ocorrências"
      ],
      "metadata": {
        "id": "phtVes3VBksH"
      }
    },
    {
      "cell_type": "code",
      "source": [
        "# Conhecer a quantidade de palavras e vocabulário\n",
        "vocabulario = set(palavras)\n",
        "len(vocabulario)"
      ],
      "metadata": {
        "id": "bEeAgS-V3NMs",
        "colab": {
          "base_uri": "https://localhost:8080/"
        },
        "outputId": "b56db336-6194-4650-e009-830518be1f87"
      },
      "execution_count": 16,
      "outputs": [
        {
          "output_type": "execute_result",
          "data": {
            "text/plain": [
              "6902"
            ]
          },
          "metadata": {},
          "execution_count": 16
        }
      ]
    },
    {
      "cell_type": "code",
      "source": [
        "# calculando a riqueza textual do corpus\n",
        "riqueza = len(vocabulario) / len(palavras) # 6902 / 36585\n",
        "riqueza"
      ],
      "metadata": {
        "colab": {
          "base_uri": "https://localhost:8080/"
        },
        "id": "d485I_rf6cH0",
        "outputId": "11d15831-af17-4725-fa88-5fcaf5536e49"
      },
      "execution_count": 17,
      "outputs": [
        {
          "output_type": "execute_result",
          "data": {
            "text/plain": [
              "0.188656553232199"
            ]
          },
          "metadata": {},
          "execution_count": 17
        }
      ]
    },
    {
      "cell_type": "code",
      "source": [
        "# Criar um dicionário deste texto\n",
        "from collections import defaultdict\n",
        "\n",
        "def ocorrencias(lista_palavras):\n",
        "  dicionario = defaultdict(int)\n",
        "  for p in lista_palavras:\n",
        "    dicionario[p] += 1\n",
        "\n",
        "  return dicionario"
      ],
      "metadata": {
        "id": "F1x3eX1E3NKM"
      },
      "execution_count": 18,
      "outputs": []
    },
    {
      "cell_type": "code",
      "source": [
        "dic = ocorrencias(palavras)\n",
        "mf = sorted(dic.items(), key=lambda tupla:tupla[1],reverse=True)[:50]\n",
        "for palavra, n in mf:\n",
        "  print(palavra,'\\t',n)"
      ],
      "metadata": {
        "id": "h4YasC2N-fSq",
        "colab": {
          "base_uri": "https://localhost:8080/"
        },
        "outputId": "62437c82-c9f2-42c5-c16e-19ecdfd4a152"
      },
      "execution_count": 19,
      "outputs": [
        {
          "output_type": "stream",
          "name": "stdout",
          "text": [
            "a \t 1491\n",
            "o \t 1398\n",
            "de \t 1199\n",
            "que \t 1119\n",
            "e \t 918\n",
            "do \t 685\n",
            "da \t 624\n",
            "os \t 496\n",
            "para \t 347\n",
            "não \t 340\n",
            "dos \t 327\n",
            "se \t 295\n",
            "as \t 266\n",
            "como \t 243\n",
            "guerreiro \t 238\n",
            "um \t 229\n",
            "seu \t 215\n",
            "em \t 213\n",
            "na \t 205\n",
            "mais \t 205\n",
            "é \t 200\n",
            "sua \t 197\n",
            "no \t 195\n",
            "com \t 195\n",
            "ao \t 190\n",
            " \t 189\n",
            "the \t 187\n",
            "á \t 186\n",
            "chefe \t 175\n",
            "ubirajara \t 174\n",
            "guerreiros \t 171\n",
            "uma \t 165\n",
            "por \t 158\n",
            "grande \t 155\n",
            "elle \t 152\n",
            "mas \t 140\n",
            "nação \t 129\n",
            "quando \t 125\n",
            "of \t 122\n",
            "das \t 115\n",
            "era \t 113\n",
            "itaquê \t 113\n",
            "seus \t 98\n",
            "pela \t 93\n",
            "virjem \t 91\n",
            "espoza \t 87\n",
            "arací \t 87\n",
            "paj \t 86\n",
            "project \t 83\n",
            "to \t 82\n"
          ]
        }
      ]
    },
    {
      "cell_type": "code",
      "source": [
        "import nltk\n",
        "nltk.download('stopwords')\n",
        "vazias = nltk.corpus.stopwords.words('portuguese')"
      ],
      "metadata": {
        "colab": {
          "base_uri": "https://localhost:8080/"
        },
        "collapsed": true,
        "id": "p85TimwCBDEz",
        "outputId": "15f7c164-fd14-41bd-d5bf-3794548b0da1"
      },
      "execution_count": 21,
      "outputs": [
        {
          "output_type": "stream",
          "name": "stderr",
          "text": [
            "[nltk_data] Downloading package stopwords to /root/nltk_data...\n",
            "[nltk_data]   Unzipping corpora/stopwords.zip.\n"
          ]
        }
      ]
    },
    {
      "cell_type": "code",
      "source": [
        "frequentes_plenas = [x for x in mf if x[0].lower() not in vazias]\n",
        "frequentes_plenas"
      ],
      "metadata": {
        "id": "tcfXsT1sBTD7",
        "colab": {
          "base_uri": "https://localhost:8080/"
        },
        "outputId": "3ce65493-a4bb-4930-ee33-add47833e32d"
      },
      "execution_count": 24,
      "outputs": [
        {
          "output_type": "execute_result",
          "data": {
            "text/plain": [
              "[('guerreiro', 238),\n",
              " ('', 189),\n",
              " ('the', 187),\n",
              " ('á', 186),\n",
              " ('chefe', 175),\n",
              " ('ubirajara', 174),\n",
              " ('guerreiros', 171),\n",
              " ('grande', 155),\n",
              " ('elle', 152),\n",
              " ('nação', 129),\n",
              " ('of', 122),\n",
              " ('itaquê', 113),\n",
              " ('virjem', 91),\n",
              " ('espoza', 87),\n",
              " ('arací', 87),\n",
              " ('paj', 86),\n",
              " ('project', 83),\n",
              " ('to', 82)]"
            ]
          },
          "metadata": {},
          "execution_count": 24
        }
      ]
    }
  ]
}