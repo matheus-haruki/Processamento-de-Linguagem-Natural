{
  "nbformat": 4,
  "nbformat_minor": 0,
  "metadata": {
    "colab": {
      "provenance": [],
      "authorship_tag": "ABX9TyMPapvMAoyHFpmzcqvNlfQF",
      "include_colab_link": true
    },
    "kernelspec": {
      "name": "python3",
      "display_name": "Python 3"
    },
    "language_info": {
      "name": "python"
    }
  },
  "cells": [
    {
      "cell_type": "markdown",
      "metadata": {
        "id": "view-in-github",
        "colab_type": "text"
      },
      "source": [
        "<a href=\"https://colab.research.google.com/github/matheus-haruki/Processamento-de-Linguagem-Natural/blob/main/Projeto_3_An%C3%A1lise_de_Relev%C3%A2ncia_de_Termos.ipynb\" target=\"_parent\"><img src=\"https://colab.research.google.com/assets/colab-badge.svg\" alt=\"Open In Colab\"/></a>"
      ]
    },
    {
      "cell_type": "markdown",
      "source": [
        "#Projeto #3 de PLN\n",
        "Análise de relevância de termos"
      ],
      "metadata": {
        "id": "zNVUiMveaJSf"
      }
    },
    {
      "cell_type": "markdown",
      "source": [
        "Objetivo do notebook:\n",
        "\n",
        "O objetivo do notebook é identificar os termos mais relevantes em textos literários utilizando a métrica TF-IDF (Term Frequency-Inverse Document Frequency), a partir de obras de Machado de Assis disponíveis no corpus da biblioteca NLTK. A análise permite destacar as palavras mais significativas em cada documento (ou obra), desconsiderando aquelas comuns e pouco informativas.\n",
        "\n",
        "Técnicas de PLN (Processamento de Linguagem Natural) implementadas:\n",
        "\n",
        "- Leitura de corpus literário com NLTK: Download e extração de arquivos de texto das obras de Machado de Assis.\n",
        "\n",
        "- Pré-processamento de texto: Leitura dos arquivos, limpeza (remoção de pontuações, normalização para minúsculas, remoção de símbolos), e tokenização simples (split por espaço).\n",
        "\n",
        "- Cálculo de métricas estatísticas de termos:\n",
        "\n",
        " - TF (Term Frequency): Frequência de um termo dentro de um documento.\n",
        "\n",
        " - DF (Document Frequency): Número de documentos onde o termo aparece.\n",
        "\n",
        " - IDF (Inverse Document Frequency): Medida que reduz o peso de termos comuns.\n",
        "\n",
        " - TF-IDF: Combinação de TF e IDF para identificar os termos mais relevantes.\n",
        "\n",
        "- Rankeamento de termos por relevância: Seleção dos 10 termos mais importantes em um documento, com base no valor TF-IDF."
      ],
      "metadata": {
        "id": "c25LA3HLfzeE"
      }
    },
    {
      "cell_type": "markdown",
      "source": [
        "#1. Carregamento do arquivo"
      ],
      "metadata": {
        "id": "g6ZkCVNzacMG"
      }
    },
    {
      "cell_type": "code",
      "source": [
        "# Importação das bilbiotecas e módulos\n",
        "import nltk\n",
        "import zipfile\n",
        "import os\n",
        "from nltk.corpus import machado\n",
        "\n",
        "# Download do corpus\n",
        "nltk.download('machado')\n",
        "\n",
        "# Extração dos arquivos do corpus\n",
        "caminho_do_zip = '/root/nltk_data/corpora/machado.zip'\n",
        "pasta_destino = '/root/nltk_data/corpora/'\n",
        "os.makedirs(pasta_destino, exist_ok=True)\n",
        "\n",
        "# Cria a pasta de destino caso não houver\n",
        "arquivo_zip = zipfile.ZipFile(caminho_do_zip, 'r')\n",
        "arquivo_zip.extractall(pasta_destino)\n",
        "\n",
        "print(f\"Arquivo {caminho_do_zip} extraído com sucesso na pasta {pasta_destino}.\")\n"
      ],
      "metadata": {
        "colab": {
          "base_uri": "https://localhost:8080/"
        },
        "id": "0j80raRWbE9c",
        "outputId": "cb481ff1-41af-4884-dbe0-df50604a76a0"
      },
      "execution_count": 3,
      "outputs": [
        {
          "output_type": "stream",
          "name": "stderr",
          "text": [
            "[nltk_data] Downloading package machado to /root/nltk_data...\n",
            "[nltk_data]   Package machado is already up-to-date!\n"
          ]
        },
        {
          "output_type": "stream",
          "name": "stdout",
          "text": [
            "Arquivo /root/nltk_data/corpora/machado.zip extraído com sucesso na pasta /root/nltk_data/corpora/.\n"
          ]
        }
      ]
    },
    {
      "cell_type": "markdown",
      "source": [
        "#2. Limpeza e preparação do arquivo"
      ],
      "metadata": {
        "id": "HD3ONV7Hajws"
      }
    },
    {
      "cell_type": "code",
      "source": [
        "# Função para leitura dos arquivos a serem utilizados\n",
        "def ler(nome_arquivo):\n",
        "    arquivo = open(nome_arquivo, 'r', encoding='ISO-8859-1') #\n",
        "    conteudo_arq = arquivo.read()\n",
        "    arquivo.close()\n",
        "    return conteudo_arq"
      ],
      "metadata": {
        "id": "__oyo87IeGvx"
      },
      "execution_count": 4,
      "outputs": []
    },
    {
      "cell_type": "code",
      "source": [
        "# Função limpeza de textos em lista\n",
        "def limpar(lista):\n",
        "    lixo = '.,;:?!“”\"ˆ`´^~^()[]{}[]()[]/\\|@#$%¨&*-_'\n",
        "    quase_limpo = [x.strip(lixo).lower() for x in lista]\n",
        "    return [x for x in quase_limpo if x.isalpha() or '-' not in x]\n"
      ],
      "metadata": {
        "id": "ymE2YzrLeLB-"
      },
      "execution_count": 6,
      "outputs": []
    },
    {
      "cell_type": "code",
      "source": [
        "# Obtenção dos caminhos dos arquivos para serem analisado\n",
        "obras = []\n",
        "\n",
        "for i in range(1,10):\n",
        "    obras.append('/root/nltk_data/corpora/machado/romance/marm0'+str(i)+'.txt')\n",
        "\n",
        "colecao = []\n",
        "\n",
        "for obra in obras:\n",
        "    print(obra)\n",
        "    texto = ler(obra)\n",
        "    palavras = limpar(texto.lower().split())\n",
        "    colecao.append(palavras)\n"
      ],
      "metadata": {
        "colab": {
          "base_uri": "https://localhost:8080/"
        },
        "id": "LzSz5zaieOrC",
        "outputId": "c9b191df-41a5-45bd-eddc-80b44cde0c35"
      },
      "execution_count": 7,
      "outputs": [
        {
          "output_type": "stream",
          "name": "stdout",
          "text": [
            "/root/nltk_data/corpora/machado/romance/marm01.txt\n",
            "/root/nltk_data/corpora/machado/romance/marm02.txt\n",
            "/root/nltk_data/corpora/machado/romance/marm03.txt\n",
            "/root/nltk_data/corpora/machado/romance/marm04.txt\n",
            "/root/nltk_data/corpora/machado/romance/marm05.txt\n",
            "/root/nltk_data/corpora/machado/romance/marm06.txt\n",
            "/root/nltk_data/corpora/machado/romance/marm07.txt\n",
            "/root/nltk_data/corpora/machado/romance/marm08.txt\n",
            "/root/nltk_data/corpora/machado/romance/marm09.txt\n"
          ]
        }
      ]
    },
    {
      "cell_type": "markdown",
      "source": [
        "#3. Criação dos cálculos"
      ],
      "metadata": {
        "id": "QPu3onFCapQR"
      }
    },
    {
      "cell_type": "code",
      "source": [
        "import math\n",
        "\n",
        "def tf(termo, doc):\n",
        "    return colecao[doc].count(termo)\n",
        "\n",
        "def df(termo):\n",
        "    return len([d for d in colecao if termo in d])\n",
        "\n",
        "def idf(termo):\n",
        "    return math.log10(len(colecao) / df(termo))\n",
        "\n",
        "def tf_idf(termo, doc):\n",
        "    return tf(termo, doc) * idf(termo)\n"
      ],
      "metadata": {
        "id": "4Zzok4JjerJ9"
      },
      "execution_count": 8,
      "outputs": []
    },
    {
      "cell_type": "markdown",
      "source": [
        "#4. Experimentação dos cálculos"
      ],
      "metadata": {
        "id": "qQ7VJg6batBZ"
      }
    },
    {
      "cell_type": "code",
      "source": [
        "df('que')\n"
      ],
      "metadata": {
        "colab": {
          "base_uri": "https://localhost:8080/"
        },
        "id": "AibGsK8Peu_R",
        "outputId": "04d15780-7c34-4b99-d4ea-322564376539"
      },
      "execution_count": 9,
      "outputs": [
        {
          "output_type": "execute_result",
          "data": {
            "text/plain": [
              "9"
            ]
          },
          "metadata": {},
          "execution_count": 9
        }
      ]
    },
    {
      "cell_type": "code",
      "source": [
        "df('luva')\n"
      ],
      "metadata": {
        "colab": {
          "base_uri": "https://localhost:8080/"
        },
        "id": "FtgzB48se7_B",
        "outputId": "057ef5fc-fb4c-48e5-a9c0-7e14d3bc2440"
      },
      "execution_count": 10,
      "outputs": [
        {
          "output_type": "execute_result",
          "data": {
            "text/plain": [
              "5"
            ]
          },
          "metadata": {},
          "execution_count": 10
        }
      ]
    },
    {
      "cell_type": "code",
      "source": [
        "tf_idf('luva', 2)\n"
      ],
      "metadata": {
        "colab": {
          "base_uri": "https://localhost:8080/"
        },
        "id": "zmvWVHlUe_o5",
        "outputId": "72c6540d-ee18-4549-de22-c520c81ca93f"
      },
      "execution_count": 11,
      "outputs": [
        {
          "output_type": "execute_result",
          "data": {
            "text/plain": [
              "0.25527250510330607"
            ]
          },
          "metadata": {},
          "execution_count": 11
        }
      ]
    },
    {
      "cell_type": "code",
      "source": [
        "tf_idf('latim', 1)\n"
      ],
      "metadata": {
        "colab": {
          "base_uri": "https://localhost:8080/"
        },
        "id": "6pJtrypnfAv-",
        "outputId": "f4140f3a-c683-4441-f914-829046c9c5fc"
      },
      "execution_count": 12,
      "outputs": [
        {
          "output_type": "execute_result",
          "data": {
            "text/plain": [
              "0.05115252244738129"
            ]
          },
          "metadata": {},
          "execution_count": 12
        }
      ]
    },
    {
      "cell_type": "code",
      "source": [
        "def relevantes(doc):\n",
        "    lista_total = [(tf_idf(p, doc), p) for p in set(colecao[doc])]\n",
        "    return sorted(lista_total, reverse=True)[:10]\n"
      ],
      "metadata": {
        "id": "z-MxYjvwfDON"
      },
      "execution_count": 13,
      "outputs": []
    },
    {
      "cell_type": "code",
      "source": [
        "mr = relevantes(1)\n",
        "\n"
      ],
      "metadata": {
        "id": "dUkd5VR2fFT8"
      },
      "execution_count": 16,
      "outputs": []
    },
    {
      "cell_type": "code",
      "source": [
        "mr"
      ],
      "metadata": {
        "colab": {
          "base_uri": "https://localhost:8080/"
        },
        "id": "De5u7uGjfVzo",
        "outputId": "eff56200-93b0-45d0-c5d4-9ef08b0bf4b3"
      },
      "execution_count": 19,
      "outputs": [
        {
          "output_type": "execute_result",
          "data": {
            "text/plain": [
              "[(276.7303277374042, 'guiomar'),\n",
              " (164.12971162356388, 'estevão'),\n",
              " (148.82387047522744, '\\x97'),\n",
              " (94.71581449742484, 'alves'),\n",
              " (87.79031086841789, 'oswald'),\n",
              " (86.83606835897857, 'mrs'),\n",
              " (60.748763781106966, 'jorge'),\n",
              " (43.65159837266534, 'baronesa'),\n",
              " (24.810305245422448, 'inglesa'),\n",
              " (9.144975192854812, 'afilhada')]"
            ]
          },
          "metadata": {},
          "execution_count": 19
        }
      ]
    }
  ]
}