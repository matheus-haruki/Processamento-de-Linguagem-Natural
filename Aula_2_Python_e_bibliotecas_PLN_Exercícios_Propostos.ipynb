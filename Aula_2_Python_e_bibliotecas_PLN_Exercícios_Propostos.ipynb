{
  "nbformat": 4,
  "nbformat_minor": 0,
  "metadata": {
    "colab": {
      "provenance": [],
      "authorship_tag": "ABX9TyPfEd75WD+XICEVsgFumrz6",
      "include_colab_link": true
    },
    "kernelspec": {
      "name": "python3",
      "display_name": "Python 3"
    },
    "language_info": {
      "name": "python"
    }
  },
  "cells": [
    {
      "cell_type": "markdown",
      "metadata": {
        "id": "view-in-github",
        "colab_type": "text"
      },
      "source": [
        "<a href=\"https://colab.research.google.com/github/matheus-haruki/Processamento-de-Linguagem-Natural/blob/main/Aula_2_Python_e_bibliotecas_PLN_Exerc%C3%ADcios_Propostos.ipynb\" target=\"_parent\"><img src=\"https://colab.research.google.com/assets/colab-badge.svg\" alt=\"Open In Colab\"/></a>"
      ]
    },
    {
      "cell_type": "markdown",
      "source": [
        "Objetivo do notebook:\n",
        "\n",
        "Este notebook foi desenvolvido com o objetivo de praticar a lógica de programação em Python por meio da resolução de exercícios básicos. As atividades abrangem desde operações matemáticas simples até manipulação de strings e listas, com foco especial em problemas que envolvem entrada de dados, condicionais, ordenação e processamento de texto.\n",
        "\n",
        "Técnicas de PLN Implementadas:\n",
        "\n",
        "Embora o foco principal seja a lógica de programação, algumas técnicas introdutórias de Processamento de Linguagem Natural (PLN) foram utilizadas, como:\n",
        "- Tokenização de palavras: separação de um texto em palavras usando o método split(), como no exercício que conta o número de palavras.\n",
        "\n",
        "- Substituição de palavras: utilizando replace() para localizar e modificar trechos de texto.\n",
        "\n",
        "- Segmentação de frases: divisão de um texto em frases com base em pontuação, especialmente o ponto final (.), aplicando split('.').\n",
        "\n",
        "Essas técnicas fazem parte das etapas iniciais em projetos de PLN e são úteis para análise textual simples."
      ],
      "metadata": {
        "id": "_djAsKS33PZu"
      }
    },
    {
      "cell_type": "markdown",
      "source": [
        "Exercícios"
      ],
      "metadata": {
        "id": "UKhAhCeV4BpV"
      }
    },
    {
      "cell_type": "markdown",
      "source": [
        "1 - Elaborar um programa que calcule e apresente o valor do volume de uma caixa retangular, utilizando a fórmula VOLUME <- COMPRIMENTO * LARGURA * ALTURA."
      ],
      "metadata": {
        "id": "SFmyDbkRzCkM"
      }
    },
    {
      "cell_type": "code",
      "source": [
        "print(\"Exercício 1\")\n",
        "print(\"Cálculo de volume de caixa\")\n",
        "\n",
        "comprimento = float(input(\"Digite o comprimento(cm): \"))\n",
        "largura = float(input(\"Digite a largura(cm): \"))\n",
        "altura = float(input(\"Digite a altura(cm): \"))\n",
        "\n",
        "volume = comprimento * largura * altura\n",
        "print(f\"Volume da caixa: {volume}cm³\")"
      ],
      "metadata": {
        "colab": {
          "base_uri": "https://localhost:8080/"
        },
        "id": "m5mvh8Lh0Ek3",
        "outputId": "0c1268d3-6735-4183-9af4-966311437331"
      },
      "execution_count": null,
      "outputs": [
        {
          "output_type": "stream",
          "name": "stdout",
          "text": [
            "Exercício 1\n",
            "Cálculo de volume de caixa\n",
            "Digite o comprimento(cm): 3\n",
            "Digite a largura(cm): 3\n",
            "Digite a altura(cm): 3\n",
            "Volume da caixa: 27.0cm³\n"
          ]
        }
      ]
    },
    {
      "cell_type": "markdown",
      "source": [
        "2 - Criar um programa que leia um texto e conte o número de palavras."
      ],
      "metadata": {
        "id": "uCAT92Rw05f6"
      }
    },
    {
      "cell_type": "code",
      "source": [
        "print(\"Exercício 2\")\n",
        "print(\"Leitor de número de palavras\")\n",
        "\n",
        "texto = input(\"Digite um texto: \")\n",
        "palavras = texto.split()\n",
        "print(\"Número de palavras:\", len(palavras))"
      ],
      "metadata": {
        "colab": {
          "base_uri": "https://localhost:8080/"
        },
        "id": "Y3XV9fyA1D72",
        "outputId": "070f0087-15c3-48cf-9f88-e118a2ae5231"
      },
      "execution_count": null,
      "outputs": [
        {
          "output_type": "stream",
          "name": "stdout",
          "text": [
            "Exercício 2\n",
            "Leitor de número de palavras\n",
            "Digite um texto: teste teste teste 1 2 3\n",
            "Número de palavras: 6\n"
          ]
        }
      ]
    },
    {
      "cell_type": "markdown",
      "source": [
        "3 - Buscar e substituir palavras em um texto;"
      ],
      "metadata": {
        "id": "_BOe6z361bwn"
      }
    },
    {
      "cell_type": "code",
      "source": [
        "print(\"Exercício 3\")\n",
        "print(\"Buscar e substituir palavras\")\n",
        "\n",
        "texto = input(\"Digite um texto: \")\n",
        "buscar = input(\"Palavra a ser substituída: \")\n",
        "substituir = input(\"Nova palavra: \")\n",
        "\n",
        "novo_texto = texto.replace(buscar, substituir)\n",
        "print(\"Texto atualizado:\", novo_texto)"
      ],
      "metadata": {
        "colab": {
          "base_uri": "https://localhost:8080/"
        },
        "id": "HcY0opsr1cj5",
        "outputId": "47b27228-7d1b-4ffa-b5af-5ddce0692c6d"
      },
      "execution_count": null,
      "outputs": [
        {
          "output_type": "stream",
          "name": "stdout",
          "text": [
            "Exercício 3\n",
            "Buscar e substituir palavras\n",
            "Digite um texto: Meu esporte favorito é basquete.\n",
            "Palavra a ser substituída: basquete\n",
            "Nova palavra: futebol\n",
            "Texto atualizado: Meu esporte favorito é futebol.\n"
          ]
        }
      ]
    },
    {
      "cell_type": "markdown",
      "source": [
        "4 - Separar frases usando split() e iterar sobre elas."
      ],
      "metadata": {
        "id": "_mVBMyKH2DuX"
      }
    },
    {
      "cell_type": "code",
      "source": [
        "print(\"Exercício 4\")\n",
        "print(\"Separador de frases\")\n",
        "\n",
        "texto = input(\"Digite um texto com frases separadas por ponto: \")\n",
        "frases = texto.split('.')\n",
        "print(\"Frases:\",frases)"
      ],
      "metadata": {
        "colab": {
          "base_uri": "https://localhost:8080/"
        },
        "id": "u-b8xLs52GQ3",
        "outputId": "bb7283f6-8ce0-4a16-cfba-940313b04001"
      },
      "execution_count": null,
      "outputs": [
        {
          "output_type": "stream",
          "name": "stdout",
          "text": [
            "Exercício 4\n",
            "Separador de frases\n",
            "Digite um texto com frases separadas por ponto: Olá. Meu nome é Matheus. Gosto de esportes. Moro no Brasil.\n",
            "Frases: ['Olá', ' Meu nome é Matheus', ' Gosto de esportes', ' Moro no Brasil', '']\n"
          ]
        }
      ]
    },
    {
      "cell_type": "markdown",
      "source": [
        "5 - Ler três valores inteiros representados pelas variáveis A, B e C e apresentar os valores lidos dispostos em ordem crescente."
      ],
      "metadata": {
        "id": "QC_4e4o64PCA"
      }
    },
    {
      "cell_type": "code",
      "source": [
        "print(\"Exercício 5\")\n",
        "print(\"Ordem Crescente\")\n",
        "\n",
        "a = int(input(\"Digite o valor A: \"))\n",
        "b = int(input(\"Digite o valor B: \"))\n",
        "c = int(input(\"Digite o valor C: \"))\n",
        "\n",
        "valores = [a, b, c]\n",
        "valores.sort()\n",
        "print(\"Valores em ordem crescente:\", valores)\n"
      ],
      "metadata": {
        "colab": {
          "base_uri": "https://localhost:8080/"
        },
        "id": "fEiQH9Ke4TVT",
        "outputId": "258b7d39-188d-4a4f-8ceb-35d602489901"
      },
      "execution_count": null,
      "outputs": [
        {
          "output_type": "stream",
          "name": "stdout",
          "text": [
            "Exercício 5\n",
            "Ordem Crescente\n",
            "Digite o valor A: 2\n",
            "Digite o valor B: 643\n",
            "Digite o valor C: 1\n",
            "Valores em ordem crescente: [1, 2, 643]\n"
          ]
        }
      ]
    },
    {
      "cell_type": "markdown",
      "source": [
        "6 - Fazer a leitura de quatro valores numéricos inteiros representados pelas variáveis A, B, C e D. Apresentar apenas os valores que sejam divisíveis por 2 e 3."
      ],
      "metadata": {
        "id": "WZ1rDaKL4ncO"
      }
    },
    {
      "cell_type": "code",
      "source": [
        "print(\"Exercício 6\")\n",
        "print(\"Valores divisíveis por 2 e 3.\")\n",
        "\n",
        "a = int(input(\"Digite o valor A: \"))\n",
        "b = int(input(\"Digite o valor B: \"))\n",
        "c = int(input(\"Digite o valor C: \"))\n",
        "d = int(input(\"Digite o valor D: \"))\n",
        "\n",
        "valores = [a, b, c, d]\n",
        "divisiveis = [valor for valor in valores if valor % 2 == 0 and valor % 3 == 0]\n",
        "\n",
        "print(\"Valores divisíveis por 2 e 3:\", divisiveis)"
      ],
      "metadata": {
        "colab": {
          "base_uri": "https://localhost:8080/"
        },
        "id": "0und7mjX4sow",
        "outputId": "c8f8f42f-8b81-44c5-9064-2e34f2dfa224"
      },
      "execution_count": null,
      "outputs": [
        {
          "output_type": "stream",
          "name": "stdout",
          "text": [
            "Exercício 6\n",
            "Valores divisíveis por 2 e 3.\n",
            "Digite o valor A: 6\n",
            "Digite o valor B: 12\n",
            "Digite o valor C: 18\n",
            "Digite o valor D: 23\n",
            "Valores divisíveis por 2 e 3: [6, 12, 18]\n"
          ]
        }
      ]
    },
    {
      "cell_type": "markdown",
      "source": [
        "7 - Construir um programa que apresente todos os valores numéricos divisíveis por 4 e menores que 200\n"
      ],
      "metadata": {
        "id": "5ED3niFW5e5F"
      }
    },
    {
      "cell_type": "code",
      "source": [
        "print(\"Exercício 7\")\n",
        "print(\"Valores divisíveis por 4 e menors que 200.\")\n",
        "\n",
        "for i in range(1, 200):\n",
        "    if i % 4 == 0:\n",
        "        print(i)\n"
      ],
      "metadata": {
        "colab": {
          "base_uri": "https://localhost:8080/"
        },
        "id": "udQyZTxJ5iC5",
        "outputId": "0fa308b9-2db3-42db-a0aa-8abc0cf9f238"
      },
      "execution_count": null,
      "outputs": [
        {
          "output_type": "stream",
          "name": "stdout",
          "text": [
            "Exercício 7\n",
            "Valores divisíveis por 4 e menors que 200.\n",
            "4\n",
            "8\n",
            "12\n",
            "16\n",
            "20\n",
            "24\n",
            "28\n",
            "32\n",
            "36\n",
            "40\n",
            "44\n",
            "48\n",
            "52\n",
            "56\n",
            "60\n",
            "64\n",
            "68\n",
            "72\n",
            "76\n",
            "80\n",
            "84\n",
            "88\n",
            "92\n",
            "96\n",
            "100\n",
            "104\n",
            "108\n",
            "112\n",
            "116\n",
            "120\n",
            "124\n",
            "128\n",
            "132\n",
            "136\n",
            "140\n",
            "144\n",
            "148\n",
            "152\n",
            "156\n",
            "160\n",
            "164\n",
            "168\n",
            "172\n",
            "176\n",
            "180\n",
            "184\n",
            "188\n",
            "192\n",
            "196\n"
          ]
        }
      ]
    }
  ]
}