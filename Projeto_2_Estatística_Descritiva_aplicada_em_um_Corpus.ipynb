{
  "nbformat": 4,
  "nbformat_minor": 0,
  "metadata": {
    "colab": {
      "provenance": [],
      "authorship_tag": "ABX9TyNnWXvixoMdDoMwxNsi7+Xy",
      "include_colab_link": true
    },
    "kernelspec": {
      "name": "python3",
      "display_name": "Python 3"
    },
    "language_info": {
      "name": "python"
    }
  },
  "cells": [
    {
      "cell_type": "markdown",
      "metadata": {
        "id": "view-in-github",
        "colab_type": "text"
      },
      "source": [
        "<a href=\"https://colab.research.google.com/github/matheus-haruki/Processamento-de-Linguagem-Natural/blob/main/Projeto_2_Estat%C3%ADstica_Descritiva_aplicada_em_um_Corpus.ipynb\" target=\"_parent\"><img src=\"https://colab.research.google.com/assets/colab-badge.svg\" alt=\"Open In Colab\"/></a>"
      ]
    },
    {
      "cell_type": "markdown",
      "source": [
        "# Projeto #2 de PLN\n",
        "\n",
        "Estatística Descritiva aplicada em um Corpus\n"
      ],
      "metadata": {
        "id": "XHP4fXOlJzNI"
      }
    },
    {
      "cell_type": "markdown",
      "source": [
        "Objetivo do notebook:\n",
        "\n",
        "Este notebook tem como objetivo aplicar técnicas de estatística descritiva à análise linguística de um corpus textual, com foco na frequência e variação do uso de advérbios em diferentes gêneros, como romances e crônicas. Através da etiquetagem gramatical automatizada, busca-se explorar padrões de uso e aspectos estilísticos presentes nos textos.\n",
        "\n",
        "Técnicas de PLN implementadas:\n",
        "\n",
        "No desenvolvimento deste projeto, foram empregadas técnicas fundamentais de Processamento de Linguagem Natural (PLN), com ênfase na etiquetagem gramatical (POS tagging), que permite identificar a classe gramatical de cada palavra no corpus. A partir dessa etiquetagem, foram extraídos e analisados os advérbios, que serviram como base para a aplicação da estatística descritiva.\n",
        "\n",
        "Além disso, foram utilizadas técnicas de limpeza e filtragem do corpus, removendo elementos irrelevantes para a análise, como pontuações, espaços e símbolos. Essa etapa foi essencial para garantir a precisão dos resultados. Por fim, os dados processados foram representados visualmente por meio de gráficos de barras e gráficos de setores (pizza), permitindo uma interpretação mais clara dos padrões encontrados."
      ],
      "metadata": {
        "id": "K-q8y_HpY74m"
      }
    },
    {
      "cell_type": "code",
      "source": [
        "import nltk\n",
        "from nltk.corpus import machado\n",
        "\n",
        "nltk.download('machado')"
      ],
      "metadata": {
        "colab": {
          "base_uri": "https://localhost:8080/"
        },
        "id": "I5adfM3YMPcO",
        "outputId": "6f620a8c-fcb7-427b-99f3-36ec25fa3eb8"
      },
      "execution_count": 1,
      "outputs": [
        {
          "output_type": "stream",
          "name": "stderr",
          "text": [
            "[nltk_data] Downloading package machado to /root/nltk_data...\n"
          ]
        },
        {
          "output_type": "execute_result",
          "data": {
            "text/plain": [
              "True"
            ]
          },
          "metadata": {},
          "execution_count": 1
        }
      ]
    },
    {
      "cell_type": "markdown",
      "source": [
        "# 1. Verificando o conteúdo do Corpus Machado e extraindo."
      ],
      "metadata": {
        "id": "XDbU2FOwNmUq"
      }
    },
    {
      "cell_type": "code",
      "source": [
        "import zipfile\n",
        "\n",
        "caminho_do_zip = '/root/nltk_data/corpora/machado.zip'\n",
        "\n",
        "arquivo_zip = zipfile.ZipFile(caminho_do_zip, 'r')\n",
        "\n",
        "arquivo_zip.printdir()"
      ],
      "metadata": {
        "colab": {
          "base_uri": "https://localhost:8080/"
        },
        "id": "16sgQRtLNCRo",
        "outputId": "f19cdace-e00a-400f-d2d3-a9c025ba15d7"
      },
      "execution_count": 2,
      "outputs": [
        {
          "output_type": "stream",
          "name": "stdout",
          "text": [
            "File Name                                             Modified             Size\n",
            "machado/                                       2009-11-07 17:15:34            0\n",
            "machado/CONTENTS                               2009-11-07 17:01:42         7414\n",
            "machado/contos/                                2009-11-07 00:29:12            0\n",
            "machado/contos/macn001.txt                     2009-11-07 00:27:08       325777\n",
            "machado/contos/macn002.txt                     2009-11-07 00:27:08       263696\n",
            "machado/contos/macn003.txt                     2009-11-07 00:27:10       319473\n",
            "machado/contos/macn004.txt                     2009-11-07 00:27:10       294593\n",
            "machado/contos/macn005.txt                     2009-11-07 00:27:10       253555\n",
            "machado/contos/macn006.txt                     2009-11-07 00:27:10       130664\n",
            "machado/contos/macn007.txt                     2009-11-07 00:27:12       169880\n",
            "machado/contos/macn008.txt                     2009-11-07 00:27:12         3936\n",
            "machado/contos/macn009.txt                     2009-11-07 00:27:12        30032\n",
            "machado/contos/macn010.txt                     2009-11-07 00:27:12        28904\n",
            "machado/contos/macn011.txt                     2009-11-07 00:27:12        28616\n",
            "machado/contos/macn012.txt                     2009-11-07 00:27:12        35373\n",
            "machado/contos/macn013.txt                     2009-11-07 00:27:12        87828\n",
            "machado/contos/macn014.txt                     2009-11-07 00:27:12        32544\n",
            "machado/contos/macn015.txt                     2009-11-07 00:27:12        33900\n",
            "machado/contos/macn016.txt                     2009-11-07 00:27:12        21656\n",
            "machado/contos/macn017.txt                     2009-11-07 00:27:12        46387\n",
            "machado/contos/macn018.txt                     2009-11-07 00:27:12        34189\n",
            "machado/contos/macn019.txt                     2009-11-07 00:27:12        12201\n",
            "machado/contos/macn020.txt                     2009-11-07 00:27:12        56031\n",
            "machado/contos/macn021.txt                     2009-11-07 00:27:12        50411\n",
            "machado/contos/macn022.txt                     2009-11-07 00:27:12        32478\n",
            "machado/contos/macn023.txt                     2009-11-07 00:27:12        29098\n",
            "machado/contos/macn024.txt                     2009-11-07 00:27:12        24062\n",
            "machado/contos/macn025.txt                     2009-11-07 00:27:12        32817\n",
            "machado/contos/macn026.txt                     2009-11-07 00:27:12        39127\n",
            "machado/contos/macn027.txt                     2009-11-07 00:27:12        48343\n",
            "machado/contos/macn028.txt                     2009-11-07 00:27:14        27113\n",
            "machado/contos/macn029.txt                     2009-11-07 00:27:14        35315\n",
            "machado/contos/macn030.txt                     2009-11-07 00:27:14        72476\n",
            "machado/contos/macn031.txt                     2009-11-07 00:27:14        45510\n",
            "machado/contos/macn032.txt                     2009-11-07 00:27:14        28807\n",
            "machado/contos/macn033.txt                     2009-11-07 00:27:14        28199\n",
            "machado/contos/macn034.txt                     2009-11-07 00:27:14        39898\n",
            "machado/contos/macn035.txt                     2009-11-07 00:27:14        19334\n",
            "machado/contos/macn036.txt                     2009-11-07 00:27:14        66324\n",
            "machado/contos/macn037.txt                     2009-11-07 00:27:14        33625\n",
            "machado/contos/macn038.txt                     2009-11-07 00:27:14        26001\n",
            "machado/contos/macn039.txt                     2009-11-07 00:27:14        37672\n",
            "machado/contos/macn040.txt                     2009-11-07 00:27:14        93385\n",
            "machado/contos/macn041.txt                     2009-11-07 00:27:14        43811\n",
            "machado/contos/macn042.txt                     2009-11-07 00:27:14        51552\n",
            "machado/contos/macn043.txt                     2009-11-07 00:27:14        26125\n",
            "machado/contos/macn044.txt                     2009-11-07 00:27:16        27439\n",
            "machado/contos/macn045.txt                     2009-11-07 00:27:16        76312\n",
            "machado/contos/macn046.txt                     2009-11-07 00:27:16        26002\n",
            "machado/contos/macn047.txt                     2009-11-07 00:27:16        21581\n",
            "machado/contos/macn048.txt                     2009-11-07 00:27:16        43225\n",
            "machado/contos/macn049.txt                     2009-11-07 00:27:16        34947\n",
            "machado/contos/macn050.txt                     2009-11-07 00:27:16        38053\n",
            "machado/contos/macn051.txt                     2009-11-07 00:27:16        34498\n",
            "machado/contos/macn052.txt                     2009-11-07 00:27:16        48959\n",
            "machado/contos/macn053.txt                     2009-11-07 00:27:16        45192\n",
            "machado/contos/macn054.txt                     2009-11-07 00:27:16        21014\n",
            "machado/contos/macn055.txt                     2009-11-07 00:27:16        22675\n",
            "machado/contos/macn056.txt                     2009-11-07 00:27:16        31210\n",
            "machado/contos/macn057.txt                     2009-11-07 00:27:16        11554\n",
            "machado/contos/macn058.txt                     2009-11-07 00:27:16        30557\n",
            "machado/contos/macn059.txt                     2009-11-07 00:27:16        16793\n",
            "machado/contos/macn060.txt                     2009-11-07 00:27:16        25731\n",
            "machado/contos/macn061.txt                     2009-11-07 00:27:16        28721\n",
            "machado/contos/macn062.txt                     2009-11-07 00:27:16        19100\n",
            "machado/contos/macn063.txt                     2009-11-07 00:27:18        45635\n",
            "machado/contos/macn064.txt                     2009-11-07 00:27:18        64080\n",
            "machado/contos/macn065.txt                     2009-11-07 00:27:18        19974\n",
            "machado/contos/macn066.txt                     2009-11-07 00:27:18        36401\n",
            "machado/contos/macn067.txt                     2009-11-07 00:27:18        29607\n",
            "machado/contos/macn068.txt                     2009-11-07 00:27:18        30218\n",
            "machado/contos/macn069.txt                     2009-11-07 00:27:18        31181\n",
            "machado/contos/macn070.txt                     2009-11-07 00:27:18        38469\n",
            "machado/contos/macn071.txt                     2009-11-07 00:27:18        33973\n",
            "machado/contos/macn072.txt                     2009-11-07 00:27:18        44550\n",
            "machado/contos/macn073.txt                     2009-11-07 00:27:18        14984\n",
            "machado/contos/macn074.txt                     2009-11-07 00:27:18        12670\n",
            "machado/contos/macn075.txt                     2009-11-07 00:27:18        13137\n",
            "machado/contos/macn076.txt                     2009-11-07 00:27:18        33404\n",
            "machado/contos/macn077.txt                     2009-11-07 00:27:18        44386\n",
            "machado/contos/macn078.txt                     2009-11-07 00:27:18        12295\n",
            "machado/contos/macn079.txt                     2009-11-07 00:27:18        11987\n",
            "machado/contos/macn080.txt                     2009-11-07 00:27:18        16283\n",
            "machado/contos/macn081.txt                     2009-11-07 00:27:18        22486\n",
            "machado/contos/macn082.txt                     2009-11-07 00:27:18        15084\n",
            "machado/contos/macn083.txt                     2009-11-07 00:27:18        37664\n",
            "machado/contos/macn084.txt                     2009-11-07 00:27:18        36751\n",
            "machado/contos/macn085.txt                     2009-11-07 00:27:18        26854\n",
            "machado/contos/macn086.txt                     2009-11-07 00:27:18        43395\n",
            "machado/contos/macn087.txt                     2009-11-07 00:27:20        21650\n",
            "machado/contos/macn088.txt                     2009-11-07 00:27:20        43202\n",
            "machado/contos/macn089.txt                     2009-11-07 00:27:20        16374\n",
            "machado/contos/macn090.txt                     2009-11-07 00:27:20        11795\n",
            "machado/contos/macn091.txt                     2009-11-07 00:27:20         6043\n",
            "machado/contos/macn092.txt                     2009-11-07 00:27:20         7654\n",
            "machado/contos/macn093.txt                     2009-11-07 00:27:20        23097\n",
            "machado/contos/macn094.txt                     2009-11-07 00:27:20         9235\n",
            "machado/contos/macn095.txt                     2009-11-07 00:27:20         7949\n",
            "machado/contos/macn096.txt                     2009-11-07 00:27:20         9457\n",
            "machado/contos/macn097.txt                     2009-11-07 00:27:20        18340\n",
            "machado/contos/macn098.txt                     2009-11-07 00:27:20         6043\n",
            "machado/contos/macn099.txt                     2009-11-07 00:27:20        20665\n",
            "machado/contos/macn100.txt                     2009-11-07 00:27:20         7212\n",
            "machado/contos/macn101.txt                     2009-11-07 00:27:20         7529\n",
            "machado/contos/macn102.txt                     2009-11-07 00:27:20         6060\n",
            "machado/contos/macn103.txt                     2009-11-07 00:27:20        16310\n",
            "machado/contos/macn104.txt                     2009-11-07 00:27:20        18824\n",
            "machado/contos/macn105.txt                     2009-11-07 00:27:20         8840\n",
            "machado/contos/macn106.txt                     2009-11-07 00:27:20        34632\n",
            "machado/contos/macn107.txt                     2009-11-07 00:27:20        10054\n",
            "machado/contos/macn108.txt                     2009-11-07 00:27:20        16685\n",
            "machado/contos/macn109.txt                     2009-11-07 00:27:20        12460\n",
            "machado/contos/macn110.txt                     2009-11-07 00:27:20        19389\n",
            "machado/contos/macn111.txt                     2009-11-07 00:27:20         5643\n",
            "machado/contos/macn112.txt                     2009-11-07 00:27:20         5253\n",
            "machado/contos/macn113.txt                     2009-11-07 00:27:20        34675\n",
            "machado/contos/macn114.txt                     2009-11-07 00:27:20        15904\n",
            "machado/contos/macn115.txt                     2009-11-07 00:27:20        16979\n",
            "machado/contos/macn116.txt                     2009-11-07 00:27:20         7151\n",
            "machado/contos/macn117.txt                     2009-11-07 00:27:20        21190\n",
            "machado/contos/macn118.txt                     2009-11-07 00:27:20        16177\n",
            "machado/contos/macn119.txt                     2009-11-07 00:27:20        21134\n",
            "machado/contos/macn120.txt                     2009-11-07 00:27:20         8344\n",
            "machado/contos/macn121.txt                     2009-11-07 00:27:20        22561\n",
            "machado/contos/macn122.txt                     2009-11-07 00:27:22        21474\n",
            "machado/contos/macn123.txt                     2009-11-07 00:27:22        29741\n",
            "machado/contos/macn124.txt                     2009-11-07 00:27:22        25482\n",
            "machado/contos/macn125.txt                     2009-11-07 00:27:22        30031\n",
            "machado/contos/macn126.txt                     2009-11-07 00:27:22        19759\n",
            "machado/contos/macn127.txt                     2009-11-07 00:27:22        23784\n",
            "machado/contos/macn128.txt                     2009-11-07 00:27:22         8875\n",
            "machado/contos/macn129.txt                     2009-11-07 00:27:22        26990\n",
            "machado/contos/macn130.txt                     2009-11-07 00:27:22         5135\n",
            "machado/contos/macn131.txt                     2009-11-07 00:27:22         8655\n",
            "machado/contos/macn132.txt                     2009-11-07 00:27:22        46491\n",
            "machado/contos/macn133.txt                     2009-11-07 00:27:22         9704\n",
            "machado/contos/macn134.txt                     2009-11-07 00:27:22        17240\n",
            "machado/contos/macn135.txt                     2009-11-07 00:27:22        22072\n",
            "machado/contos/macn136.txt                     2009-11-07 00:27:22        30686\n",
            "machado/contos/macn137.txt                     2009-11-07 00:27:22        39534\n",
            "machado/critica/                               2009-11-07 00:29:16            0\n",
            "machado/critica/mact01.txt                     2009-11-07 00:27:22        13410\n",
            "machado/critica/mact02.txt                     2009-11-07 00:27:22        24249\n",
            "machado/critica/mact03.txt                     2009-11-07 00:27:22       152343\n",
            "machado/critica/mact04.txt                     2009-11-07 00:27:22       185755\n",
            "machado/critica/mact05.txt                     2009-11-07 00:27:22        11160\n",
            "machado/critica/mact06.txt                     2009-11-07 00:27:24         9647\n",
            "machado/critica/mact07.txt                     2009-11-07 00:27:24         4608\n",
            "machado/critica/mact08.txt                     2009-11-07 00:27:24        32286\n",
            "machado/critica/mact09.txt                     2009-11-07 00:27:24        13058\n",
            "machado/critica/mact10.txt                     2009-11-07 00:27:24         5824\n",
            "machado/critica/mact11.txt                     2009-11-07 00:27:24         9326\n",
            "machado/critica/mact12.txt                     2009-11-07 00:27:24        31474\n",
            "machado/critica/mact13.txt                     2009-11-07 00:27:24        10397\n",
            "machado/critica/mact14.txt                     2009-11-07 00:27:24         6657\n",
            "machado/critica/mact15.txt                     2009-11-07 00:27:24        91897\n",
            "machado/critica/mact16.txt                     2009-11-07 00:27:24        11180\n",
            "machado/critica/mact17.txt                     2009-11-07 00:27:24        14997\n",
            "machado/critica/mact18.txt                     2009-11-07 00:27:24        15122\n",
            "machado/critica/mact19.txt                     2009-11-07 00:27:24        12828\n",
            "machado/critica/mact20.txt                     2009-11-07 00:27:24         4503\n",
            "machado/critica/mact21.txt                     2009-11-07 00:27:24         6698\n",
            "machado/critica/mact22.txt                     2009-11-07 00:27:24        16170\n",
            "machado/critica/mact23.txt                     2009-11-07 00:27:24         4439\n",
            "machado/critica/mact24.txt                     2009-11-07 00:28:58        17838\n",
            "machado/critica/mact25.txt                     2009-11-07 00:27:24        25321\n",
            "machado/critica/mact26.txt                     2009-11-07 00:27:24         4953\n",
            "machado/critica/mact27.txt                     2009-11-07 00:27:24        32214\n",
            "machado/critica/mact28.txt                     2009-11-07 00:27:24         5307\n",
            "machado/critica/mact29.txt                     2009-11-07 00:27:24        81563\n",
            "machado/critica/mact30.txt                     2009-11-07 00:27:24         4906\n",
            "machado/critica/mact31.txt                     2009-11-07 00:27:24         5882\n",
            "machado/critica/mact32.txt                     2009-11-07 00:27:24         5689\n",
            "machado/critica/mact33.txt                     2009-11-07 00:27:24         2573\n",
            "machado/critica/mact34.txt                     2009-11-07 00:27:24         1890\n",
            "machado/critica/mact35.txt                     2009-11-07 00:27:24        10729\n",
            "machado/critica/mact36.txt                     2009-11-07 00:27:24        32066\n",
            "machado/critica/mact37.txt                     2009-11-07 00:27:24         6053\n",
            "machado/critica/mact38.txt                     2009-11-07 00:27:24         8536\n",
            "machado/critica/mact39.txt                     2009-11-07 00:27:24         9551\n",
            "machado/critica/mact40.txt                     2009-11-07 00:27:24         5034\n",
            "machado/critica/mact41.txt                     2009-11-07 00:27:24         2185\n",
            "machado/critica/mact42.txt                     2009-11-07 00:27:24         4115\n",
            "machado/critica/mact43.txt                     2009-11-07 00:27:24         8802\n",
            "machado/critica/mact44.txt                     2009-11-07 00:27:24         4017\n",
            "machado/critica/mact45.txt                     2009-11-07 00:27:24         6795\n",
            "machado/cronica/                               2009-11-07 00:29:12            0\n",
            "machado/cronica/macr01.txt                     2009-11-07 00:27:26       132922\n",
            "machado/cronica/macr02.txt                     2009-11-07 00:27:26       124684\n",
            "machado/cronica/macr03.txt                     2009-11-07 00:27:26       117498\n",
            "machado/cronica/macr04.txt                     2009-11-07 00:27:28       457145\n",
            "machado/cronica/macr05.txt                     2009-11-07 00:27:28        21329\n",
            "machado/cronica/macr06.txt                     2009-11-07 00:27:28        63723\n",
            "machado/cronica/macr07.txt                     2009-11-07 00:27:28       119004\n",
            "machado/cronica/macr08.txt                     2009-11-07 00:27:28        13439\n",
            "machado/cronica/macr09.txt                     2009-11-07 00:27:28        97420\n",
            "machado/cronica/macr10.txt                     2009-11-07 00:27:28       189759\n",
            "machado/cronica/macr11.txt                     2009-11-07 00:27:30       123113\n",
            "machado/cronica/macr12.txt                     2009-11-07 00:27:32      1540128\n",
            "machado/cronica/macr13.txt                     2009-11-07 00:27:32        17628\n",
            "machado/cronica/macr14.txt                     2009-11-07 00:27:32         5537\n",
            "machado/cronica/macr15.txt                     2009-11-07 00:27:32        34524\n",
            "machado/cronica/macr16.txt                     2009-11-07 00:27:32         1888\n",
            "machado/cronica/macr17.txt                     2009-11-07 00:27:32         3975\n",
            "machado/cronica/macr18.txt                     2009-11-07 00:27:32          620\n",
            "machado/cronica/macr19.txt                     2009-11-07 00:27:32         4814\n",
            "machado/cronica/macr20.txt                     2009-11-07 00:27:32         3400\n",
            "machado/cronica/macr21.txt                     2009-11-07 00:27:32        36488\n",
            "machado/cronica/macr22.txt                     2009-11-07 00:27:32         4254\n",
            "machado/cronica/macr23.txt                     2009-11-07 00:27:32         1251\n",
            "machado/cronica/macr24.txt                     2009-11-07 00:27:32        25606\n",
            "machado/miscelanea/                            2009-11-07 00:29:12            0\n",
            "machado/miscelanea/mams01.txt                  2009-11-07 00:27:32         7536\n",
            "machado/miscelanea/mams02.txt                  2009-11-07 00:27:32        22668\n",
            "machado/miscelanea/mams03.txt                  2009-11-07 00:27:32         8947\n",
            "machado/miscelanea/mams04.txt                  2009-11-07 00:27:32         3483\n",
            "machado/miscelanea/mams05.txt                  2009-11-07 00:27:34         6549\n",
            "machado/miscelanea/mams06.txt                  2009-11-07 00:27:34         1257\n",
            "machado/miscelanea/mams07.txt                  2009-11-07 00:27:34         3801\n",
            "machado/miscelanea/mams08.txt                  2009-11-07 00:27:34         8829\n",
            "machado/miscelanea/mams09.txt                  2009-11-07 00:27:34         4159\n",
            "machado/miscelanea/mams10.txt                  2009-11-07 00:27:34         5827\n",
            "machado/poesia/                                2009-11-07 00:29:12            0\n",
            "machado/poesia/maps01.txt                      2009-11-07 00:27:34        72971\n",
            "machado/poesia/maps02.txt                      2009-11-07 00:27:34       112294\n",
            "machado/poesia/maps03.txt                      2009-11-07 00:27:34       102423\n",
            "machado/poesia/maps04.txt                      2009-11-07 00:27:34       119157\n",
            "machado/poesia/maps05.txt                      2009-11-07 00:27:36        42604\n",
            "machado/poesia/maps06.txt                      2009-11-07 00:27:36       103931\n",
            "machado/poesia/maps07.txt                      2009-11-07 00:27:36       136862\n",
            "machado/README                                 2009-11-07 17:12:34         7468\n",
            "machado/romance/                               2009-11-07 00:29:12            0\n",
            "machado/romance/marm01.txt                     2009-11-07 00:27:36       220519\n",
            "machado/romance/marm02.txt                     2009-11-07 00:27:38       201581\n",
            "machado/romance/marm03.txt                     2009-11-07 00:27:38       338374\n",
            "machado/romance/marm04.txt                     2009-11-07 00:27:40       336880\n",
            "machado/romance/marm05.txt                     2009-11-07 00:27:40       355706\n",
            "machado/romance/marm06.txt                     2009-11-07 00:27:40       130936\n",
            "machado/romance/marm07.txt                     2009-11-07 00:27:40       446502\n",
            "machado/romance/marm08.txt                     2009-11-07 00:27:42       373504\n",
            "machado/romance/marm09.txt                     2009-11-07 00:27:42       412059\n",
            "machado/romance/marm10.txt                     2009-11-07 00:27:44       282378\n",
            "machado/teatro/                                2009-11-07 00:29:12            0\n",
            "machado/teatro/matt01.txt                      2009-11-07 00:27:44        51665\n",
            "machado/teatro/matt02.txt                      2009-11-07 00:27:44        25730\n",
            "machado/teatro/matt03.txt                      2009-11-07 00:27:44        48618\n",
            "machado/teatro/matt04.txt                      2009-11-07 00:27:44        77979\n",
            "machado/teatro/matt05.txt                      2009-11-07 00:27:44        30882\n",
            "machado/teatro/matt06.txt                      2009-11-07 00:27:44        36129\n",
            "machado/teatro/matt07.txt                      2009-11-07 00:27:44         8109\n",
            "machado/teatro/matt08.txt                      2009-11-07 00:27:44        41036\n",
            "machado/teatro/matt09.txt                      2009-11-07 00:27:46        32836\n",
            "machado/teatro/matt10.txt                      2009-11-07 00:27:46        35487\n",
            "machado/traducao/                              2009-11-07 00:29:12            0\n",
            "machado/traducao/matr01.txt                    2009-11-07 00:27:46        54909\n",
            "machado/traducao/matr02.txt                    2009-11-07 00:27:46       708762\n",
            "machado/traducao/matr03.txt                    2009-11-07 00:27:48       352469\n"
          ]
        }
      ]
    },
    {
      "cell_type": "code",
      "source": [
        "# extrair o conteúdo para analisar\n",
        "\n",
        "import os\n",
        "\n",
        "pasta_destino = '/root/nltk_data/corpora/'\n",
        "\n",
        "os.makedirs(pasta_destino, exist_ok=True)\n",
        "\n",
        "arquivo_zip.extractall(pasta_destino)\n",
        "\n",
        "print(f\"Arquivo {caminho_do_zip} extraído com sucesso para a pasta {pasta_destino}.\")"
      ],
      "metadata": {
        "colab": {
          "base_uri": "https://localhost:8080/"
        },
        "id": "L39iwe34OCCp",
        "outputId": "98bf4e33-e3e9-4b08-c767-36a9645e63d9"
      },
      "execution_count": 3,
      "outputs": [
        {
          "output_type": "stream",
          "name": "stdout",
          "text": [
            "Arquivo /root/nltk_data/corpora/machado.zip extraído com sucesso para a pasta /root/nltk_data/corpora/.\n"
          ]
        }
      ]
    },
    {
      "cell_type": "markdown",
      "source": [
        "#2. Etiquetação Morfológica (POS Tagging)\n",
        "\n"
      ],
      "metadata": {
        "id": "R0f2_3ZkOwJp"
      }
    },
    {
      "cell_type": "code",
      "source": [
        "!pip install\n",
        "!python -m spacy download pt_core_news_sm"
      ],
      "metadata": {
        "colab": {
          "base_uri": "https://localhost:8080/"
        },
        "id": "0OMTMm6FO5BG",
        "outputId": "c853af0f-fe6a-44d0-ddbe-93cd0fbee529"
      },
      "execution_count": 4,
      "outputs": [
        {
          "output_type": "stream",
          "name": "stdout",
          "text": [
            "\u001b[31mERROR: You must give at least one requirement to install (see \"pip help install\")\u001b[0m\u001b[31m\n",
            "\u001b[0mCollecting pt-core-news-sm==3.8.0\n",
            "  Downloading https://github.com/explosion/spacy-models/releases/download/pt_core_news_sm-3.8.0/pt_core_news_sm-3.8.0-py3-none-any.whl (13.0 MB)\n",
            "\u001b[2K     \u001b[90m━━━━━━━━━━━━━━━━━━━━━━━━━━━━━━━━━━━━━━━━\u001b[0m \u001b[32m13.0/13.0 MB\u001b[0m \u001b[31m93.1 MB/s\u001b[0m eta \u001b[36m0:00:00\u001b[0m\n",
            "\u001b[?25hInstalling collected packages: pt-core-news-sm\n",
            "Successfully installed pt-core-news-sm-3.8.0\n",
            "\u001b[38;5;2m✔ Download and installation successful\u001b[0m\n",
            "You can now load the package via spacy.load('pt_core_news_sm')\n",
            "\u001b[38;5;3m⚠ Restart to reload dependencies\u001b[0m\n",
            "If you are in a Jupyter or Colab notebook, you may need to restart Python in\n",
            "order to load all the package's dependencies. You can do this by selecting the\n",
            "'Restart kernel' or 'Restart runtime' option.\n"
          ]
        }
      ]
    },
    {
      "cell_type": "code",
      "source": [
        "# exemplo de etiquetagem morfologica\n",
        "import spacy\n",
        "\n",
        "nlp = spacy.load(\"pt_core_news_sm\")\n",
        "\n",
        "doc = nlp(\"Vamos estudar Processamento de linguagem natural.\")\n",
        "\n",
        "etiq = [(x.orth_, x.pos_) for x in doc]\n",
        "\n",
        "print(etiq)\n"
      ],
      "metadata": {
        "colab": {
          "base_uri": "https://localhost:8080/"
        },
        "id": "TJZGxBDKPHog",
        "outputId": "a260e506-e11b-4082-9a50-214192012ad7"
      },
      "execution_count": 5,
      "outputs": [
        {
          "output_type": "stream",
          "name": "stdout",
          "text": [
            "[('Vamos', 'AUX'), ('estudar', 'VERB'), ('Processamento', 'PROPN'), ('de', 'ADP'), ('linguagem', 'NOUN'), ('natural', 'ADJ'), ('.', 'PUNCT')]\n"
          ]
        }
      ]
    },
    {
      "cell_type": "code",
      "source": [
        "# Função para leitura dos arquivos a serem utilizados\n",
        "def ler(nome_arquivo):\n",
        "    arquivo = open(nome_arquivo, 'r', encoding='ISO-8859-1')\n",
        "    conteudo_arq = arquivo.read()\n",
        "    arquivo.close()\n",
        "    return conteudo_arq\n"
      ],
      "metadata": {
        "id": "NnJc4eB6P-T-"
      },
      "execution_count": 9,
      "outputs": []
    },
    {
      "cell_type": "code",
      "source": [
        "# obtenção dos caminhos dos arquivos para serem analisados\n",
        "obras = []\n",
        "\n",
        "for i in range(1,6):\n",
        "    obras.append('/root/nltk_data/corpora/machado/romance/marm0' + str(i) + '.txt')\n",
        "\n",
        "for i in range(1,6):\n",
        "    obras.append('/root/nltk_data/corpora/machado/cronica/macr0' + str(i) + '.txt')\n",
        "\n",
        "obras\n"
      ],
      "metadata": {
        "colab": {
          "base_uri": "https://localhost:8080/"
        },
        "id": "47Tay9E3SIW5",
        "outputId": "00efedc9-b7b3-4a18-d992-141d64c05303"
      },
      "execution_count": 11,
      "outputs": [
        {
          "output_type": "execute_result",
          "data": {
            "text/plain": [
              "['/root/nltk_data/corpora/machado/romance/marm01.txt',\n",
              " '/root/nltk_data/corpora/machado/romance/marm02.txt',\n",
              " '/root/nltk_data/corpora/machado/romance/marm03.txt',\n",
              " '/root/nltk_data/corpora/machado/romance/marm04.txt',\n",
              " '/root/nltk_data/corpora/machado/romance/marm05.txt',\n",
              " '/root/nltk_data/corpora/machado/cronica/macr01.txt',\n",
              " '/root/nltk_data/corpora/machado/cronica/macr02.txt',\n",
              " '/root/nltk_data/corpora/machado/cronica/macr03.txt',\n",
              " '/root/nltk_data/corpora/machado/cronica/macr04.txt',\n",
              " '/root/nltk_data/corpora/machado/cronica/macr05.txt']"
            ]
          },
          "metadata": {},
          "execution_count": 11
        }
      ]
    },
    {
      "cell_type": "code",
      "source": [
        "import statistics as stat\n",
        "\n",
        "cont_adv = []\n",
        "\n",
        "for obra in obras:\n",
        "    print(obra)\n",
        "    s = ler(obra)\n",
        "\n",
        "    doc = nlp(s)\n",
        "    etiq = [(x.orth_, x.pos_) for x in doc]\n",
        "    adv = [(ort, pos) for (ort, pos) in etiq if pos == \"ADV\"]\n",
        "    cont_adv.append(len(adv) / len(etiq))\n"
      ],
      "metadata": {
        "colab": {
          "base_uri": "https://localhost:8080/"
        },
        "id": "swALNFg7SkY3",
        "outputId": "c2179402-51b0-4a98-ce4c-53ad1ea2498b"
      },
      "execution_count": 12,
      "outputs": [
        {
          "output_type": "stream",
          "name": "stdout",
          "text": [
            "/root/nltk_data/corpora/machado/romance/marm01.txt\n",
            "/root/nltk_data/corpora/machado/romance/marm02.txt\n",
            "/root/nltk_data/corpora/machado/romance/marm03.txt\n",
            "/root/nltk_data/corpora/machado/romance/marm04.txt\n",
            "/root/nltk_data/corpora/machado/romance/marm05.txt\n",
            "/root/nltk_data/corpora/machado/cronica/macr01.txt\n",
            "/root/nltk_data/corpora/machado/cronica/macr02.txt\n",
            "/root/nltk_data/corpora/machado/cronica/macr03.txt\n",
            "/root/nltk_data/corpora/machado/cronica/macr04.txt\n",
            "/root/nltk_data/corpora/machado/cronica/macr05.txt\n"
          ]
        }
      ]
    },
    {
      "cell_type": "code",
      "source": [
        "cont_adv"
      ],
      "metadata": {
        "colab": {
          "base_uri": "https://localhost:8080/"
        },
        "id": "Ev6DixeyT4Iq",
        "outputId": "2ad8a37b-2f9e-4449-d933-1b6b43ece05a"
      },
      "execution_count": 13,
      "outputs": [
        {
          "output_type": "execute_result",
          "data": {
            "text/plain": [
              "[0.06059252642548757,\n",
              " 0.06217443568852678,\n",
              " 0.05392558824755737,\n",
              " 0.060081142081723646,\n",
              " 0.05774050146712507,\n",
              " 0.04643839583031707,\n",
              " 0.04072243346007605,\n",
              " 0.0439109341957955,\n",
              " 0.046125480153649166,\n",
              " 0.04610318331503842]"
            ]
          },
          "metadata": {},
          "execution_count": 13
        }
      ]
    },
    {
      "cell_type": "code",
      "source": [
        "rom_m = stat.mean(cont_adv[:4])\n",
        "rom_dp = stat.stdev(cont_adv[:4])\n",
        "cron_m = stat.mean(cont_adv[5:])\n",
        "cron_dp = stat.stdev(cont_adv[5:])\n"
      ],
      "metadata": {
        "id": "yLCAxZMzT8VD"
      },
      "execution_count": 14,
      "outputs": []
    },
    {
      "cell_type": "markdown",
      "source": [
        "#3. Geração de gráficos para demonstração de resultados"
      ],
      "metadata": {
        "id": "KHoPwabRUmxf"
      }
    },
    {
      "cell_type": "code",
      "source": [
        "import matplotlib.pyplot as plt\n",
        "\n",
        "tipo_obra = [\"Romance\", \"Cronicas\"]\n",
        "\n",
        "x = [0,1]\n",
        "y = [rom_m, cron_m]\n",
        "dp = [rom_dp, cron_dp]\n",
        "\n",
        "plt.bar(x, y, yerr = dp)\n",
        "plt.xticks(x, tipo_obra)\n",
        "plt.ylabel('Percentual médio de adverbio (%)')\n",
        "plt.title('Adverbios nas obras de M.de Assis')\n",
        "\n",
        "plt.show()\n"
      ],
      "metadata": {
        "colab": {
          "base_uri": "https://localhost:8080/",
          "height": 452
        },
        "id": "5PRasYWIU9r5",
        "outputId": "c982fa9f-d026-4ae0-d1f1-5b74f211d8ff"
      },
      "execution_count": 15,
      "outputs": [
        {
          "output_type": "display_data",
          "data": {
            "text/plain": [
              "<Figure size 640x480 with 1 Axes>"
            ],
            "image/png": "[encoded data removed]"
          },
          "metadata": {}
        }
      ]
    },
    {
      "cell_type": "markdown",
      "source": [
        "#4. Análise de classes gramaticais\n"
      ],
      "metadata": {
        "id": "5rri8BD9VYZR"
      }
    },
    {
      "cell_type": "code",
      "source": [
        "# limpeza para classificação\n",
        "lixo = ['PUNCT', 'SPACE', 'X', 'SYM', 'NUM']\n",
        "pos2 = [pos for (pal, pos) in etiq if pos not in lixo]"
      ],
      "metadata": {
        "id": "_nc1mKeCWdhL"
      },
      "execution_count": 18,
      "outputs": []
    },
    {
      "cell_type": "code",
      "source": [
        "from collections import defaultdict\n",
        "\n",
        "cont = defaultdict(int)\n",
        "for p in pos2:\n",
        "    cont[p] += 1\n",
        "\n",
        "nomes = cont.keys()\n",
        "ocorrencias = cont.values()"
      ],
      "metadata": {
        "id": "LHmfo0cTVjr3"
      },
      "execution_count": 19,
      "outputs": []
    },
    {
      "cell_type": "code",
      "source": [
        "plt.pie(ocorrencias, labels=nomes, autopct=\"%1.1f%%\")\n",
        "plt.axis('equal')\n",
        "plt.show()"
      ],
      "metadata": {
        "colab": {
          "base_uri": "https://localhost:8080/",
          "height": 407
        },
        "id": "-fG-GOwsV6CH",
        "outputId": "e3afa01e-e03b-401c-a332-45245568f730"
      },
      "execution_count": 20,
      "outputs": [
        {
          "output_type": "display_data",
          "data": {
            "text/plain": [
              "<Figure size 640x480 with 1 Axes>"
            ],
            "image/png": "[encoded data removed]"
          },
          "metadata": {}
        }
      ]
    }
  ]
}