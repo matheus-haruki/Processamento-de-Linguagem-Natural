{
  "nbformat": 4,
  "nbformat_minor": 0,
  "metadata": {
    "colab": {
      "provenance": [],
      "authorship_tag": "ABX9TyNBvcr+Mm4HFv91b5UcfdV8",
      "include_colab_link": true
    },
    "kernelspec": {
      "name": "python3",
      "display_name": "Python 3"
    },
    "language_info": {
      "name": "python"
    }
  },
  "cells": [
    {
      "cell_type": "markdown",
      "metadata": {
        "id": "view-in-github",
        "colab_type": "text"
      },
      "source": [
        "<a href=\"https://colab.research.google.com/github/matheus-haruki/Processamento-de-Linguagem-Natural/blob/main/Aula_11_Pipeline_de_Classifica%C3%A7%C3%A3o_de_Texto.ipynb\" target=\"_parent\"><img src=\"https://colab.research.google.com/assets/colab-badge.svg\" alt=\"Open In Colab\"/></a>"
      ]
    },
    {
      "cell_type": "markdown",
      "source": [
        "**Introdução à Aprendizagem de Máquina para PLN**\n",
        "\n",
        "Objetivos da aula\n",
        "\n",
        "Introduzir os conceitos fundamentais de Aprendizagem de Máquina aplicados ao Processamento de Linguagem Natural, com foco em modelos clássicos de classificação de texto e na construção de pipelines completos.\n",
        "\n",
        "Objetivos Específicos:\n",
        "\n",
        "* Compreender os princípios básicos da Aprendizagem de Máquina supervisionada.\n",
        "* Implementar e aplicar os modelos clássicos de classificação de texto:\n",
        "  * Naive Bayes\n",
        "  * Árvores de Decisão\n",
        "* Entender a importância e as etapas de um pipeline de classificação de texto, desde a preparação dos dados até a avaliação dos resultados.\n"
      ],
      "metadata": {
        "id": "bpaMqjhELyxT"
      }
    },
    {
      "cell_type": "markdown",
      "source": [
        "Etapa 0: Criando a base de dados a ser utilizada"
      ],
      "metadata": {
        "id": "_NKG6APOUbmZ"
      }
    },
    {
      "cell_type": "code",
      "source": [
        "# Criando a base de dados a ser utilizada\n",
        "import pandas as pd\n",
        "\n",
        "# Criar um dicionário com dados de exemplo\n",
        "data = {\n",
        "    'texto': [\n",
        "        \"Este é um ótimo filme!\",\n",
        "        \"O produto é muito ruim.\",\n",
        "        \"Adorei o atendimento ao cliente.\",\n",
        "        \"A entrega atrasou e o produto veio com defeito.\",\n",
        "        \"Recomendo este livro a todos!\",\n",
        "        \"Não gostei da experiência.\",\n",
        "        \"O serviço foi excelente.\",\n",
        "        \"Péssima qualidade, não comprem!\",\n",
        "        \"Amei o presente, muito obrigado!\",\n",
        "        \"Que decepção, perdi meu dinheiro.\"\n",
        "    ],\n",
        "    'categoria': [\n",
        "        \"positivo\",\n",
        "        \"negativo\",\n",
        "        \"positivo\",\n",
        "        \"negativo\",\n",
        "        \"positivo\",\n",
        "        \"negativo\",\n",
        "        \"positivo\",\n",
        "        \"negativo\",\n",
        "        \"positivo\",\n",
        "        \"negativo\"\n",
        "    ]\n",
        "}\n",
        "\n",
        "# Criar um DataFrame a partir do dicionário\n",
        "df = pd.DataFrame(data)\n",
        "\n",
        "# Salvar o DataFrame em um arquivo CSV\n",
        "df.to_csv('dados_rotulados.csv', index=False, encoding='utf-8')\n",
        "\n",
        "print(\"Base de dados criada e salva em 'dados_rotulados.csv'\")\n"
      ],
      "metadata": {
        "colab": {
          "base_uri": "https://localhost:8080/"
        },
        "id": "j0EdqdUuhHrD",
        "outputId": "e9403844-a093-4388-bf88-0989af10285d"
      },
      "execution_count": 14,
      "outputs": [
        {
          "output_type": "stream",
          "name": "stdout",
          "text": [
            "Base de dados criada e salva em 'dados_rotulados.csv'\n"
          ]
        }
      ]
    },
    {
      "cell_type": "markdown",
      "source": [
        "**Etapa 1: Preparação dos dados**"
      ],
      "metadata": {
        "id": "XKrOEJedjndZ"
      }
    },
    {
      "cell_type": "code",
      "source": [
        "# Passo 1: Importando as bibliotecas necessárias\n",
        "import nltk\n",
        "import spacy\n",
        "import sklearn\n",
        "import pandas as pd\n",
        "import matplotlib.pyplot as plt\n",
        "import string\n",
        "from nltk.corpus import stopwords\n",
        "from nltk.tokenize import word_tokenize\n",
        "from nltk.stem import SnowballStemmer\n",
        "from sklearn.model_selection import train_test_split\n",
        "\n",
        "nltk.download('stopwords')\n",
        "nltk.download('punkt')\n",
        "# Download the punkt_tab resource which is required for word_tokenize's internal sentence tokenization\n",
        "nltk.download('punkt_tab')"
      ],
      "metadata": {
        "colab": {
          "base_uri": "https://localhost:8080/"
        },
        "id": "q-f3V2xmhwsQ",
        "outputId": "9c844fb3-788d-4aba-f269-458afcb58411"
      },
      "execution_count": 23,
      "outputs": [
        {
          "output_type": "stream",
          "name": "stderr",
          "text": [
            "[nltk_data] Downloading package stopwords to /root/nltk_data...\n",
            "[nltk_data]   Package stopwords is already up-to-date!\n",
            "[nltk_data] Downloading package punkt to /root/nltk_data...\n",
            "[nltk_data]   Package punkt is already up-to-date!\n",
            "[nltk_data] Downloading package punkt_tab to /root/nltk_data...\n",
            "[nltk_data]   Package punkt_tab is already up-to-date!\n"
          ]
        },
        {
          "output_type": "execute_result",
          "data": {
            "text/plain": [
              "True"
            ]
          },
          "metadata": {},
          "execution_count": 23
        }
      ]
    },
    {
      "cell_type": "code",
      "source": [
        "# Passo 2: Carregar o conjunto de dados de texto rotulado\n",
        "data = pd.read_csv('dados_rotulados.csv', encoding='utf-8')\n",
        "\n",
        "# Passo 3: Explorar e visualizar os dados\n",
        "print(\"Informações do conjunto de dados:\")\n",
        "print(data.info())\n",
        "\n",
        "print(\"\\nPrimeiras 5 linhas do conjunto de dados:\")\n",
        "print(data.head())\n",
        "\n",
        "# Distribuição das categorias\n",
        "plt.figure(figsize=(10, 5))\n",
        "data['categoria'].value_counts().plot(kind='bar')\n",
        "plt.title('Distribuição das Categorias')\n",
        "plt.xlabel('Categoria')\n",
        "plt.ylabel('Contagem')\n",
        "plt.tight_layout()\n",
        "plt.show()\n",
        "\n",
        "# Tamanho dos textos\n",
        "tamanhos_textos = data['texto'].apply(len)\n",
        "plt.figure(figsize=(10, 5))\n",
        "plt.hist(tamanhos_textos, bins=50)\n",
        "plt.title('Tamanho dos Textos')\n",
        "plt.xlabel('Tamanho do Texto')\n",
        "plt.ylabel('Frequência')\n",
        "plt.tight_layout()\n",
        "plt.show()\n"
      ],
      "metadata": {
        "colab": {
          "base_uri": "https://localhost:8080/",
          "height": 1000
        },
        "id": "5GgUYpIliAmD",
        "outputId": "b72f04c8-ee84-40d0-f5a0-88fa0b1d87d9"
      },
      "execution_count": 24,
      "outputs": [
        {
          "output_type": "stream",
          "name": "stdout",
          "text": [
            "Informações do conjunto de dados:\n",
            "<class 'pandas.core.frame.DataFrame'>\n",
            "RangeIndex: 10 entries, 0 to 9\n",
            "Data columns (total 2 columns):\n",
            " #   Column     Non-Null Count  Dtype \n",
            "---  ------     --------------  ----- \n",
            " 0   texto      10 non-null     object\n",
            " 1   categoria  10 non-null     object\n",
            "dtypes: object(2)\n",
            "memory usage: 292.0+ bytes\n",
            "None\n",
            "\n",
            "Primeiras 5 linhas do conjunto de dados:\n",
            "                                             texto categoria\n",
            "0                           Este é um ótimo filme!  positivo\n",
            "1                          O produto é muito ruim.  negativo\n",
            "2                 Adorei o atendimento ao cliente.  positivo\n",
            "3  A entrega atrasou e o produto veio com defeito.  negativo\n",
            "4                    Recomendo este livro a todos!  positivo\n"
          ]
        },
        {
          "output_type": "display_data",
          "data": {
            "text/plain": [
              "<Figure size 1000x500 with 1 Axes>"
            ],
            "image/png": "[encoded data removed]"
          },
          "metadata": {}
        },
        {
          "output_type": "display_data",
          "data": {
            "text/plain": [
              "<Figure size 1000x500 with 1 Axes>"
            ],
            "image/png": "[encoded data removed]"
          },
          "metadata": {}
        }
      ]
    },
    {
      "cell_type": "code",
      "source": [
        "# Inicializa objetos uma vez fora da função\n",
        "stop_words = set(stopwords.words('portuguese'))\n",
        "stemmer = SnowballStemmer('portuguese')\n",
        "\n",
        "# Passo 4: Realizar o pré-processamento do texto\n",
        "def preprocessar_texto(texto):\n",
        "    # Passo 4.1: Limpar o texto\n",
        "    texto = texto.translate(str.maketrans('', '', string.punctuation))\n",
        "    texto = ''.join([c for c in texto if not c.isdigit()])\n",
        "    texto = texto.strip()\n",
        "\n",
        "    # Passo 4.2: Tokenizar o texto\n",
        "    tokens = word_tokenize(texto.lower())\n",
        "\n",
        "    # Passo 4.3: Remover stopwords\n",
        "    tokens = [palavra for palavra in tokens if palavra not in stop_words]\n",
        "\n",
        "    # Passo 4.4: Aplicar stemming\n",
        "    tokens = [stemmer.stem(palavra) for palavra in tokens]\n",
        "    return ' '.join(tokens)\n",
        "\n",
        "# Aplica a função de pré-processamento à coluna 'texto'\n",
        "data['texto_processado'] = data['texto'].apply(preprocessar_texto)\n",
        "\n",
        "# Passo 5: Dividir os dados\n",
        "X_train, X_test, y_train, y_test = train_test_split(\n",
        "    data['texto_processado'], data['categoria'], test_size=0.2, random_state=42)\n",
        "\n",
        "# Exibe os tamanhos dos conjuntos\n",
        "print(\"\\nTamanho do conjunto de treinamento:\", len(X_train))\n",
        "print(\"Tamanho do conjunto de teste:\", len(X_test))\n"
      ],
      "metadata": {
        "colab": {
          "base_uri": "https://localhost:8080/"
        },
        "id": "TElHlh6QiTRQ",
        "outputId": "05a0e308-de97-4f11-d4f2-2f4f6e596f1c"
      },
      "execution_count": 22,
      "outputs": [
        {
          "output_type": "stream",
          "name": "stdout",
          "text": [
            "\n",
            "Tamanho do conjunto de treinamento: 8\n",
            "Tamanho do conjunto de teste: 2\n"
          ]
        }
      ]
    },
    {
      "cell_type": "markdown",
      "source": [
        "**Etapa 2: Extração de características**"
      ],
      "metadata": {
        "id": "H5aUqDH0jtER"
      }
    },
    {
      "cell_type": "code",
      "source": [
        "# Importação das bibliotecas a serem utilizadas\n",
        "from sklearn.feature_extraction.text import TfidfVectorizer\n",
        "from sklearn.naive_bayes import MultinomialNB\n",
        "from sklearn.metrics import accuracy_score, classification_report\n",
        "\n",
        "# Etapa 2: Extração de características\n",
        "vectorizer = TfidfVectorizer()\n",
        "X_train_tfidf = vectorizer.fit_transform(X_train)\n",
        "X_test_tfidf = vectorizer.transform(X_test)\n",
        "\n",
        "# Exibe o número de características extraídas\n",
        "print(\"\\nNúmero de características extraídas:\", X_train_tfidf.shape[1])\n",
        "\n",
        "# Etapa 3: Treinamento do modelo\n",
        "modelo = MultinomialNB()\n",
        "modelo.fit(X_train_tfidf, y_train)\n",
        "\n",
        "# Passo 4: Avaliação do modelo\n",
        "y_pred = modelo.predict(X_test_tfidf)\n",
        "acurácia = accuracy_score(y_test, y_pred)\n",
        "print(\"\\nAcurácia do modelo:\", acurácia)\n",
        "print(\"\\nRelatório de Classificação:\\n\", classification_report(y_test, y_pred))"
      ],
      "metadata": {
        "colab": {
          "base_uri": "https://localhost:8080/"
        },
        "id": "YBeRl9hijaoo",
        "outputId": "7bdc6fb1-9cae-4aad-ae4b-777060272e02"
      },
      "execution_count": 25,
      "outputs": [
        {
          "output_type": "stream",
          "name": "stdout",
          "text": [
            "\n",
            "Número de características extraídas: 23\n",
            "\n",
            "Acurácia do modelo: 0.5\n",
            "\n",
            "Relatório de Classificação:\n",
            "               precision    recall  f1-score   support\n",
            "\n",
            "    negativo       0.50      1.00      0.67         1\n",
            "    positivo       0.00      0.00      0.00         1\n",
            "\n",
            "    accuracy                           0.50         2\n",
            "   macro avg       0.25      0.50      0.33         2\n",
            "weighted avg       0.25      0.50      0.33         2\n",
            "\n"
          ]
        },
        {
          "output_type": "stream",
          "name": "stderr",
          "text": [
            "/usr/local/lib/python3.11/dist-packages/sklearn/metrics/_classification.py:1565: UndefinedMetricWarning: Precision is ill-defined and being set to 0.0 in labels with no predicted samples. Use `zero_division` parameter to control this behavior.\n",
            "  _warn_prf(average, modifier, f\"{metric.capitalize()} is\", len(result))\n",
            "/usr/local/lib/python3.11/dist-packages/sklearn/metrics/_classification.py:1565: UndefinedMetricWarning: Precision is ill-defined and being set to 0.0 in labels with no predicted samples. Use `zero_division` parameter to control this behavior.\n",
            "  _warn_prf(average, modifier, f\"{metric.capitalize()} is\", len(result))\n",
            "/usr/local/lib/python3.11/dist-packages/sklearn/metrics/_classification.py:1565: UndefinedMetricWarning: Precision is ill-defined and being set to 0.0 in labels with no predicted samples. Use `zero_division` parameter to control this behavior.\n",
            "  _warn_prf(average, modifier, f\"{metric.capitalize()} is\", len(result))\n"
          ]
        }
      ]
    },
    {
      "cell_type": "code",
      "source": [
        "# Passo 5: Classificação de um novo texto\n",
        "def classifier_texto(texto, vectorizer, modelo):\n",
        "    # Preprocessa o texto de entrada\n",
        "    texto_processado = preprocessar_texto(texto)\n",
        "    # Converte o texto pré-processado em um vetor TF-IDF\n",
        "    texto_tfidf = vectorizer.transform([texto_processado])\n",
        "    # Classifica o texto usando o modelo treinado\n",
        "    categoria_prevista = modelo.predict(texto_tfidf)[0]\n",
        "    # (Optional) Obtém as probabilidades de cada categoria\n",
        "    probabilidades = modelo.predict_proba(texto_tfidf)[0]\n",
        "    categorias = modelo.classes_\n",
        "    probabilidades_por_categoria = dict(zip(categorias, probabilidades))\n",
        "    return categoria_prevista, probabilidades_por_categoria\n",
        "\n",
        "# Exemplo de uso da função para classificar um novo texto\n",
        "novo_texto = \"Este filme é incrível, recomendo a todos!\"\n",
        "categoria, probabilidades = classifier_texto(novo_texto, vectorizer, modelo)\n",
        "print(\"\\nNovo texto:\", novo_texto)\n",
        "print(\"Categoria prevista:\", categoria)\n",
        "print(\"Probabilidades por categoria:\", probabilidades)"
      ],
      "metadata": {
        "colab": {
          "base_uri": "https://localhost:8080/"
        },
        "id": "WQ2bOD6mkhJQ",
        "outputId": "557526e0-8ac9-4066-8301-8ca593497ed9"
      },
      "execution_count": 26,
      "outputs": [
        {
          "output_type": "stream",
          "name": "stdout",
          "text": [
            "\n",
            "Novo texto: Este filme é incrível, recomendo a todos!\n",
            "Categoria prevista: positivo\n",
            "Probabilidades por categoria: {np.str_('negativo'): np.float64(0.29256806327043555), np.str_('positivo'): np.float64(0.7074319367295648)}\n"
          ]
        }
      ]
    },
    {
      "cell_type": "markdown",
      "source": [
        "**Etapa 3: Treinamento do modelo**"
      ],
      "metadata": {
        "id": "iEPoo2ESkp46"
      }
    },
    {
      "cell_type": "code",
      "source": [
        "# Importação das ferramentas utilizadas\n",
        "from sklearn.linear_model import LogisticRegression\n",
        "from sklearn.svm import SVC\n",
        "from sklearn.model_selection import GridSearchCV\n",
        "\n",
        "# Etapa 3: Treinamento do modelo\n",
        "# Passo 1: Escolher modelos de aprendizado de máquina\n",
        "naive_bayes_model = MultinomialNB()\n",
        "logistic_regression_model = LogisticRegression(random_state=42)\n",
        "svm_model = SVC(random_state=42, probability=True)\n",
        "\n",
        "# Passo 2: Treinar os modelos\n",
        "naive_bayes_model.fit(X_train_tfidf, y_train)\n",
        "logistic_regression_model.fit(X_train_tfidf, y_train)\n",
        "svm_model.fit(X_train_tfidf, y_train)\n",
        "\n",
        "# Passo 3: Ajuste de hiperparâmetros\n",
        "param_grid_nb = {}  # Naive Bayes não possui hiperparâmetros significativos\n",
        "param_grid_lr = {'C': [0.1, 1, 10], 'solver': ['liblinear', 'lbfgs']}\n",
        "param_grid_svm = {'C': [0.1, 1, 10], 'kernel': ['linear', 'rbf']}\n",
        "\n",
        "grid_search_lr = GridSearchCV(logistic_regression_model, param_grid_lr, cv=2)\n",
        "grid_search_svm = GridSearchCV(svm_model, param_grid_svm, cv=2)"
      ],
      "metadata": {
        "id": "X3Ak_yQSkmFc"
      },
      "execution_count": 27,
      "outputs": []
    },
    {
      "cell_type": "code",
      "source": [
        "grid_search_lr.fit(X_train_tfidf, y_train)\n",
        "grid_search_svm.fit(X_train_tfidf, y_train)\n",
        "\n",
        "# Imprime os melhores hiperparâmetros encontrados\n",
        "print(\"\\nMelhores hiperparâmetros para Regressão Logística:\", grid_search_lr.best_params_)\n",
        "print(\"Melhores hiperparâmetros para SVM:\", grid_search_svm.best_params_)\n",
        "\n",
        "# Obtém os modelos com os melhores hiperparâmetros\n",
        "best_logistic_regression_model = grid_search_lr.best_estimator_\n",
        "best_svm_model = grid_search_svm.best_estimator_\n",
        "\n",
        "# Passo 4: Avaliação do modelo\n",
        "print(\"\\nResultados da avaliação:\")\n",
        "\n",
        "# Avaliação do modelo Naive Bayes\n",
        "y_pred_nb = naive_bayes_model.predict(X_test_tfidf)\n",
        "acuracia_nb = accuracy_score(y_test, y_pred_nb)\n",
        "print(\"\\nNaive Bayes Multinomial:\")\n",
        "print(\"Acurácia:\", acuracia_nb)\n",
        "print(\"Relatório de Classificação:\\n\", classification_report(y_test, y_pred_nb))\n",
        "\n",
        "# Avaliação do modelo de Regressão Logística\n",
        "y_pred_lr = best_logistic_regression_model.predict(X_test_tfidf)\n",
        "acuracia_lr = accuracy_score(y_test, y_pred_lr)\n",
        "print(\"\\nRegressão Logística:\")\n",
        "print(\"Acurácia:\", acuracia_lr)\n",
        "print(\"Relatório de Classificação:\\n\", classification_report(y_test, y_pred_lr))"
      ],
      "metadata": {
        "colab": {
          "base_uri": "https://localhost:8080/"
        },
        "id": "fI_VLeyTlI4f",
        "outputId": "73583a76-b46e-4851-af3c-ae6b0fa9b1e7"
      },
      "execution_count": 28,
      "outputs": [
        {
          "output_type": "stream",
          "name": "stdout",
          "text": [
            "\n",
            "Melhores hiperparâmetros para Regressão Logística: {'C': 0.1, 'solver': 'liblinear'}\n",
            "Melhores hiperparâmetros para SVM: {'C': 1, 'kernel': 'rbf'}\n",
            "\n",
            "Resultados da avaliação:\n",
            "\n",
            "Naive Bayes Multinomial:\n",
            "Acurácia: 0.5\n",
            "Relatório de Classificação:\n",
            "               precision    recall  f1-score   support\n",
            "\n",
            "    negativo       0.50      1.00      0.67         1\n",
            "    positivo       0.00      0.00      0.00         1\n",
            "\n",
            "    accuracy                           0.50         2\n",
            "   macro avg       0.25      0.50      0.33         2\n",
            "weighted avg       0.25      0.50      0.33         2\n",
            "\n",
            "\n",
            "Regressão Logística:\n",
            "Acurácia: 0.5\n",
            "Relatório de Classificação:\n",
            "               precision    recall  f1-score   support\n",
            "\n",
            "    negativo       0.50      1.00      0.67         1\n",
            "    positivo       0.00      0.00      0.00         1\n",
            "\n",
            "    accuracy                           0.50         2\n",
            "   macro avg       0.25      0.50      0.33         2\n",
            "weighted avg       0.25      0.50      0.33         2\n",
            "\n"
          ]
        },
        {
          "output_type": "stream",
          "name": "stderr",
          "text": [
            "/usr/local/lib/python3.11/dist-packages/sklearn/metrics/_classification.py:1565: UndefinedMetricWarning: Precision is ill-defined and being set to 0.0 in labels with no predicted samples. Use `zero_division` parameter to control this behavior.\n",
            "  _warn_prf(average, modifier, f\"{metric.capitalize()} is\", len(result))\n",
            "/usr/local/lib/python3.11/dist-packages/sklearn/metrics/_classification.py:1565: UndefinedMetricWarning: Precision is ill-defined and being set to 0.0 in labels with no predicted samples. Use `zero_division` parameter to control this behavior.\n",
            "  _warn_prf(average, modifier, f\"{metric.capitalize()} is\", len(result))\n",
            "/usr/local/lib/python3.11/dist-packages/sklearn/metrics/_classification.py:1565: UndefinedMetricWarning: Precision is ill-defined and being set to 0.0 in labels with no predicted samples. Use `zero_division` parameter to control this behavior.\n",
            "  _warn_prf(average, modifier, f\"{metric.capitalize()} is\", len(result))\n",
            "/usr/local/lib/python3.11/dist-packages/sklearn/metrics/_classification.py:1565: UndefinedMetricWarning: Precision is ill-defined and being set to 0.0 in labels with no predicted samples. Use `zero_division` parameter to control this behavior.\n",
            "  _warn_prf(average, modifier, f\"{metric.capitalize()} is\", len(result))\n",
            "/usr/local/lib/python3.11/dist-packages/sklearn/metrics/_classification.py:1565: UndefinedMetricWarning: Precision is ill-defined and being set to 0.0 in labels with no predicted samples. Use `zero_division` parameter to control this behavior.\n",
            "  _warn_prf(average, modifier, f\"{metric.capitalize()} is\", len(result))\n",
            "/usr/local/lib/python3.11/dist-packages/sklearn/metrics/_classification.py:1565: UndefinedMetricWarning: Precision is ill-defined and being set to 0.0 in labels with no predicted samples. Use `zero_division` parameter to control this behavior.\n",
            "  _warn_prf(average, modifier, f\"{metric.capitalize()} is\", len(result))\n"
          ]
        }
      ]
    },
    {
      "cell_type": "code",
      "source": [
        "# Avaliação do modelo SVM\n",
        "y_pred_svm = best_svm_model.predict(X_test_tfidf)\n",
        "acuracia_svm = accuracy_score(y_test, y_pred_svm)\n",
        "print(\"\\nSVM:\")\n",
        "print(\"Acurácia:\", acuracia_svm)\n",
        "print(\"Relatório de Classificação:\\n\", classification_report(y_test, y_pred_svm))\n",
        "\n",
        "# Passo 5: Classificação de um novo texto\n",
        "def classifier_texto(texto, vectorizer, modelo):\n",
        "    # Preprocessa o texto de entrada\n",
        "    texto_processado = preprocessar_texto(texto)\n",
        "    # Converte o texto pré-processado em um vetor TF-IDF\n",
        "    texto_tfidf = vectorizer.transform([texto_processado])\n",
        "    # Classifica o texto usando o modelo treinado\n",
        "    categoria_prevista = modelo.predict(texto_tfidf)[0]\n",
        "    # (Optional) Obtém as probabilidades de cada categoria\n",
        "    probabilidades = modelo.predict_proba(texto_tfidf)[0]\n",
        "    categorias = modelo.classes_\n",
        "    probabilidades_por_categoria = dict(zip(categorias, probabilidades))\n",
        "    return categoria_prevista, probabilidades_por_categoria"
      ],
      "metadata": {
        "colab": {
          "base_uri": "https://localhost:8080/"
        },
        "id": "y0gFDGxQla7H",
        "outputId": "caf90be1-2354-4fe3-f81a-8973dc95fb88"
      },
      "execution_count": 29,
      "outputs": [
        {
          "output_type": "stream",
          "name": "stdout",
          "text": [
            "\n",
            "SVM:\n",
            "Acurácia: 1.0\n",
            "Relatório de Classificação:\n",
            "               precision    recall  f1-score   support\n",
            "\n",
            "    negativo       1.00      1.00      1.00         1\n",
            "    positivo       1.00      1.00      1.00         1\n",
            "\n",
            "    accuracy                           1.00         2\n",
            "   macro avg       1.00      1.00      1.00         2\n",
            "weighted avg       1.00      1.00      1.00         2\n",
            "\n"
          ]
        }
      ]
    },
    {
      "cell_type": "code",
      "source": [
        "# Exemplo de uso da função para classificar um novo texto\n",
        "novo_texto = \"Este filme é incrível, recomendo a todos!\"\n",
        "categoria_nb, probabilidades_nb = classifier_texto(novo_texto, vectorizer, naive_bayes_model)\n",
        "categoria_lr, probabilidades_lr = classifier_texto(novo_texto, vectorizer, best_logistic_regression_model)\n",
        "categoria_svm, probabilidades_svm = classifier_texto(novo_texto, vectorizer, best_svm_model)\n",
        "\n",
        "print(\"\\nNovo texto:\", novo_texto)\n",
        "print(\"\\nResultados da classificação:\")\n",
        "print(\"\\nNaive Bayes Multinomial:\")\n",
        "print(\"Categoria prevista:\", categoria_nb)\n",
        "print(\"Probabilidades por categoria:\", probabilidades_nb)\n",
        "print(\"\\nRegressão Logística:\")\n",
        "print(\"Categoria prevista:\", categoria_lr)\n",
        "print(\"Probabilidades por categoria:\", probabilidades_lr)\n",
        "print(\"\\nSVM:\")\n",
        "print(\"Categoria prevista:\", categoria_svm)\n",
        "print(\"Probabilidades por categoria:\", probabilidades_svm)"
      ],
      "metadata": {
        "colab": {
          "base_uri": "https://localhost:8080/"
        },
        "id": "RlcoMbP2lrQp",
        "outputId": "153e7a64-da3a-4a51-88ef-9599ffc0f0a9"
      },
      "execution_count": 30,
      "outputs": [
        {
          "output_type": "stream",
          "name": "stdout",
          "text": [
            "\n",
            "Novo texto: Este filme é incrível, recomendo a todos!\n",
            "\n",
            "Resultados da classificação:\n",
            "\n",
            "Naive Bayes Multinomial:\n",
            "Categoria prevista: positivo\n",
            "Probabilidades por categoria: {np.str_('negativo'): np.float64(0.29256806327043555), np.str_('positivo'): np.float64(0.7074319367295648)}\n",
            "\n",
            "Regressão Logística:\n",
            "Categoria prevista: positivo\n",
            "Probabilidades por categoria: {'negativo': np.float64(0.4868942836287754), 'positivo': np.float64(0.5131057163712246)}\n",
            "\n",
            "SVM:\n",
            "Categoria prevista: positivo\n",
            "Probabilidades por categoria: {'negativo': np.float64(0.8817303978937229), 'positivo': np.float64(0.11826960210627731)}\n"
          ]
        }
      ]
    },
    {
      "cell_type": "markdown",
      "source": [
        "**Etapa 4: Avaliação do modelo**"
      ],
      "metadata": {
        "id": "KVIudPn_l7ok"
      }
    },
    {
      "cell_type": "code",
      "source": [
        "# Etapa 4: Avaliação do modelo\n",
        "print(\"\\nEtapa 4: Avaliação do Modelo\")\n",
        "print(\"\\nResultados da Avaliação:\")\n",
        "\n",
        "# Avaliação do modelo Naive Bayes\n",
        "y_pred_nb = naive_bayes_model.predict(X_test_tfidf)\n",
        "acuracia_nb = accuracy_score(y_test, y_pred_nb)\n",
        "print(\"\\nNaive Bayes Multinomial:\")\n",
        "print(\"Acurácia:\", acuracia_nb)\n",
        "print(\"Relatório de Classificação:\\n\", classification_report(y_test, y_pred_nb, zero_division=0))\n",
        "\n",
        "# Avaliação do modelo de Regressão Logística\n",
        "y_pred_lr = best_logistic_regression_model.predict(X_test_tfidf)\n",
        "acuracia_lr = accuracy_score(y_test, y_pred_lr)\n",
        "print(\"\\nRegressão Logística:\")\n",
        "print(\"Acurácia:\", acuracia_lr)\n",
        "print(\"Relatório de Classificação:\\n\", classification_report(y_test, y_pred_lr, zero_division=0))\n",
        "\n",
        "# Avaliação do modelo SVM\n",
        "y_pred_svm = best_svm_model.predict(X_test_tfidf)\n",
        "acuracia_svm = accuracy_score(y_test, y_pred_svm)\n",
        "print(\"\\nSVM:\")\n",
        "print(\"Acurácia:\", acuracia_svm)\n",
        "print(\"Relatório de Classificação:\\n\", classification_report(y_test, y_pred_svm, zero_division=0))\n",
        "\n",
        "# Comparação de desempenho\n",
        "print(\"\\nComparação de Modelos:\")\n",
        "print(f\"- Acurácia Naive Bayes: {acuracia_nb:.4f}\")\n",
        "print(f\"- Acurácia Regressão Logística: {acuracia_lr:.4f}\")\n",
        "print(f\"- Acurácia SVM: {acuracia_svm:.4f}\")\n",
        "\n",
        "# Visualização gráfica\n",
        "modelos = ['Naive Bayes', 'Regressão Logística', 'SVM']\n",
        "acuracias = [acuracia_nb, acuracia_lr, acuracia_svm]\n",
        "\n",
        "plt.figure(figsize=(8, 6))\n",
        "plt.bar(modelos, acuracias, color=['blue', 'green', 'red'])\n",
        "plt.xlabel('Modelo')\n",
        "plt.ylabel('Acurácia')\n",
        "plt.title('Comparação de Acurácia dos Modelos')\n",
        "plt.ylim(0, 1)\n",
        "plt.show()"
      ],
      "metadata": {
        "colab": {
          "base_uri": "https://localhost:8080/",
          "height": 1000
        },
        "id": "OZDLiOkSl4mD",
        "outputId": "034fb579-2d5e-4929-d806-fbd216db7d58"
      },
      "execution_count": 31,
      "outputs": [
        {
          "output_type": "stream",
          "name": "stdout",
          "text": [
            "\n",
            "Etapa 4: Avaliação do Modelo\n",
            "\n",
            "Resultados da Avaliação:\n",
            "\n",
            "Naive Bayes Multinomial:\n",
            "Acurácia: 0.5\n",
            "Relatório de Classificação:\n",
            "               precision    recall  f1-score   support\n",
            "\n",
            "    negativo       0.50      1.00      0.67         1\n",
            "    positivo       0.00      0.00      0.00         1\n",
            "\n",
            "    accuracy                           0.50         2\n",
            "   macro avg       0.25      0.50      0.33         2\n",
            "weighted avg       0.25      0.50      0.33         2\n",
            "\n",
            "\n",
            "Regressão Logística:\n",
            "Acurácia: 0.5\n",
            "Relatório de Classificação:\n",
            "               precision    recall  f1-score   support\n",
            "\n",
            "    negativo       0.50      1.00      0.67         1\n",
            "    positivo       0.00      0.00      0.00         1\n",
            "\n",
            "    accuracy                           0.50         2\n",
            "   macro avg       0.25      0.50      0.33         2\n",
            "weighted avg       0.25      0.50      0.33         2\n",
            "\n",
            "\n",
            "SVM:\n",
            "Acurácia: 1.0\n",
            "Relatório de Classificação:\n",
            "               precision    recall  f1-score   support\n",
            "\n",
            "    negativo       1.00      1.00      1.00         1\n",
            "    positivo       1.00      1.00      1.00         1\n",
            "\n",
            "    accuracy                           1.00         2\n",
            "   macro avg       1.00      1.00      1.00         2\n",
            "weighted avg       1.00      1.00      1.00         2\n",
            "\n",
            "\n",
            "Comparação de Modelos:\n",
            "- Acurácia Naive Bayes: 0.5000\n",
            "- Acurácia Regressão Logística: 0.5000\n",
            "- Acurácia SVM: 1.0000\n"
          ]
        },
        {
          "output_type": "display_data",
          "data": {
            "text/plain": [
              "<Figure size 800x600 with 1 Axes>"
            ],
            "image/png": "[encoded data removed]"
          },
          "metadata": {}
        }
      ]
    },
    {
      "cell_type": "markdown",
      "source": [
        "**Etapa 5: Classificação de um novo texto**"
      ],
      "metadata": {
        "id": "yKMWnBLkmZ-a"
      }
    },
    {
      "cell_type": "code",
      "source": [
        "# Etapa 5: Classificação de um novo texto\n",
        "print(\"\\nEtapa 5: Classificação de um Novo Texto\")\n",
        "\n",
        "def classificar_novo_texto(texto, vectorizer, modelo):\n",
        "    \"\"\"\n",
        "    Classifica um novo texto de entrada usando o modelo treinado.\n",
        "\n",
        "    Args:\n",
        "        texto (str): O texto a ser classificado.\n",
        "        vectorizer: O vectorizador TF-IDF usado para extrair as características do texto.\n",
        "        modelo: O modelo de aprendizado de máquina treinado.\n",
        "\n",
        "    Returns:\n",
        "        str: A categoria prevista para o texto.\n",
        "        dict: As probabilidades de o texto pertencer a cada categoria.\n",
        "    \"\"\"\n",
        "    # Passo 1: Pré-processar o novo texto de entrada\n",
        "    texto_processado = preprocessar_texto(texto)\n",
        "\n",
        "    # Passo 2: Extrair as características do novo texto\n",
        "    texto_tfidf = vectorizer.transform([texto_processado])\n",
        "\n",
        "    # Passo 3: Prever a categoria do novo texto\n",
        "    categoria_prevista = modelo.predict(texto_tfidf)[0]\n",
        "    probabilidades = modelo.predict_proba(texto_tfidf)[0]\n",
        "    categorias = modelo.classes_\n",
        "    probabilidades_por_categoria = dict(zip(categorias, probabilidades))\n",
        "\n",
        "    return categoria_prevista, probabilidades_por_categoria"
      ],
      "metadata": {
        "colab": {
          "base_uri": "https://localhost:8080/"
        },
        "id": "e9JsZACZmUyV",
        "outputId": "ef52bf95-afa2-4cdf-d4cf-a07bbe1d5aed"
      },
      "execution_count": 32,
      "outputs": [
        {
          "output_type": "stream",
          "name": "stdout",
          "text": [
            "\n",
            "Etapa 5: Classificação de um Novo Texto\n"
          ]
        }
      ]
    },
    {
      "cell_type": "code",
      "source": [
        "# Etapa 5: Classificação de um novo texto\n",
        "print(\"\\nEtapa 5: Classificação de um Novo Texto\")\n",
        "\n",
        "def classificar_novo_texto(texto, vectorizer, modelo):\n",
        "    \"\"\"\n",
        "    Classifica um novo texto de entrada usando o modelo treinado.\n",
        "\n",
        "    Args:\n",
        "        texto (str): O texto a ser classificado.\n",
        "        vectorizer: O vectorizador TF-IDF usado para extrair as características do texto.\n",
        "        modelo: O modelo de aprendizado de máquina treinado.\n",
        "\n",
        "    Returns:\n",
        "        str: A categoria prevista para o texto.\n",
        "        dict: As probabilidades de o texto pertencer a cada categoria, se disponíveis.\n",
        "    \"\"\"\n",
        "    # Passo 1: Pré-processar o novo texto de entrada\n",
        "    texto_processado = preprocessar_texto(texto)\n",
        "\n",
        "    # Passo 2: Extrair as características do novo texto\n",
        "    texto_tfidf = vectorizer.transform([texto_processado])\n",
        "\n",
        "    # Passo 3: Prever a categoria do novo texto\n",
        "    categoria_prevista = modelo.predict(texto_tfidf)[0]\n",
        "\n",
        "    # Passo 4: Obter probabilidades (se o modelo suportar)\n",
        "    try:\n",
        "        probabilidades = modelo.predict_proba(texto_tfidf)[0]\n",
        "        categorias = modelo.classes_\n",
        "        probabilidades_por_categoria = dict(zip(categorias, probabilidades))\n",
        "    except AttributeError:\n",
        "        probabilidades_por_categoria = {}\n",
        "\n",
        "    return categoria_prevista, probabilidades_por_categoria\n",
        "\n",
        "\n",
        "# Exemplo de uso da função para classificar um novo texto\n",
        "novo_texto = \"Este filme é incrível, recomendo a todos!\"\n",
        "\n",
        "print(\"\\nNovo Texto:\", novo_texto)\n",
        "print(\"\\nResultados da Classificação:\")\n",
        "\n",
        "# Classificar usando Naive Bayes\n",
        "categoria_nb, probabilidades_nb = classificar_novo_texto(novo_texto, vectorizer, naive_bayes_model)\n",
        "print(\"\\nNaive Bayes:\")\n",
        "print(\" Categoria Prevista:\", categoria_nb)\n",
        "if probabilidades_nb:\n",
        "    print(\" Probabilidades:\", probabilidades_nb)\n",
        "\n",
        "# Classificar usando Regressão Logística\n",
        "categoria_lr, probabilidades_lr = classificar_novo_texto(novo_texto, vectorizer, best_logistic_regression_model)\n",
        "print(\"\\nRegressão Logística:\")\n",
        "print(\" Categoria Prevista:\", categoria_lr)\n",
        "if probabilidades_lr:\n",
        "    print(\" Probabilidades:\", probabilidades_lr)\n",
        "\n",
        "# Classificar usando SVM\n",
        "categoria_svm, probabilidades_svm = classificar_novo_texto(novo_texto, vectorizer, best_svm_model)\n",
        "print(\"\\nSVM:\")\n",
        "print(\" Categoria Prevista:\", categoria_svm)\n",
        "if probabilidades_svm:\n",
        "    print(\" Probabilidades:\", probabilidades_svm)\n"
      ],
      "metadata": {
        "colab": {
          "base_uri": "https://localhost:8080/"
        },
        "id": "7YIQMpt0mtuG",
        "outputId": "d4fadae2-138a-4f9e-c5e5-882380c4e3e1"
      },
      "execution_count": 34,
      "outputs": [
        {
          "output_type": "stream",
          "name": "stdout",
          "text": [
            "\n",
            "Etapa 5: Classificação de um Novo Texto\n",
            "\n",
            "Novo Texto: Este filme é incrível, recomendo a todos!\n",
            "\n",
            "Resultados da Classificação:\n",
            "\n",
            "Naive Bayes:\n",
            " Categoria Prevista: positivo\n",
            " Probabilidades: {np.str_('negativo'): np.float64(0.29256806327043555), np.str_('positivo'): np.float64(0.7074319367295648)}\n",
            "\n",
            "Regressão Logística:\n",
            " Categoria Prevista: positivo\n",
            " Probabilidades: {'negativo': np.float64(0.4868942836287754), 'positivo': np.float64(0.5131057163712246)}\n",
            "\n",
            "SVM:\n",
            " Categoria Prevista: positivo\n",
            " Probabilidades: {'negativo': np.float64(0.8817303978937229), 'positivo': np.float64(0.11826960210627731)}\n"
          ]
        }
      ]
    }
  ]
}